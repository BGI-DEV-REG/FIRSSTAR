{
 "cells": [
  {
   "cell_type": "code",
   "execution_count": null,
   "id": "1443e385-8a1d-443f-a3cc-a5eee9c8edae",
   "metadata": {
    "tags": []
   },
   "outputs": [],
   "source": [
    "import scanpy as sc ###\n",
    "import dynamo as dyn\n",
    "import pandas as pd\n",
    "import numpy as np\n",
    "import seaborn as sns\n",
    "import matplotlib.pyplot as plt\n",
    "from scipy.sparse import csr_matrix\n",
    "import squidpy as sq ###\n",
    "import sys\n",
    "import time\n",
    "import os\n",
    "import re\n",
    "from pandas.core.frame import DataFrame"
   ]
  },
  {
   "cell_type": "code",
   "execution_count": null,
   "id": "1765c297-d2d7-4ec7-af35-169413f1d67d",
   "metadata": {
    "tags": []
   },
   "outputs": [],
   "source": [
    "inh5ad=\"../Adult_5d1_C01830E6F6_FB_assays.h5ad\"\n",
    "outpath=\"./Adult_5d1_C01830E6F6\""
   ]
  },
  {
   "cell_type": "code",
   "execution_count": null,
   "id": "b334772c-07bf-4f7f-8e20-4cf8a991d592",
   "metadata": {
    "tags": []
   },
   "outputs": [],
   "source": [
    "anndata = sc.read(inh5ad)\n",
    "anndata.obsm['X_spatial'] = anndata.obsm['spatial'].copy()"
   ]
  },
  {
   "cell_type": "code",
   "execution_count": null,
   "id": "0ae3d225-c802-4c92-b4b0-33317e0cc665",
   "metadata": {
    "tags": []
   },
   "outputs": [],
   "source": [
    "rotated_coords = anndata.obsm['X_spatial'].copy()\n",
    "rotated_coords[:, 1] = -rotated_coords[:, 1]\n",
    "rotated_coords"
   ]
  },
  {
   "cell_type": "code",
   "execution_count": null,
   "id": "0b8f2980-2909-4387-bd0d-166533eb904e",
   "metadata": {},
   "outputs": [],
   "source": [
    "anndata.obsm['X_spatial'] = rotated_coords"
   ]
  },
  {
   "cell_type": "code",
   "execution_count": null,
   "id": "9c416a18-8955-4420-821c-55a66e41e895",
   "metadata": {
    "tags": []
   },
   "outputs": [],
   "source": [
    "co_all = {\"FB_fascia_1_Adult\":'#db2400',\"FB_inflammatory_Adult\":\"#63FFAC\",\"FB_oxidative_stress_Adult\":'#FFFF52',\"FB_myo_Adult\":\"#1CE6FF\"}"
   ]
  },
  {
   "cell_type": "code",
   "execution_count": null,
   "id": "812a650c-8cbc-4f22-b421-83b913046f2a",
   "metadata": {
    "tags": []
   },
   "outputs": [],
   "source": [
    "cell_list = [\"FB_oxidative_stress_Adult\",\"FB_myo_Adult\"]\n",
    "anndata = anndata[anndata.obs['celltype'].isin(cell_list)]\n",
    "print(anndata.obs['celltype'].value_counts())\n",
    "\n",
    "co = {celltype: co_all[celltype] for celltype in cell_list if celltype in co_all}"
   ]
  },
  {
   "cell_type": "code",
   "execution_count": null,
   "id": "e27c96b4-c4c9-409b-a4f0-343b6b18d92a",
   "metadata": {
    "tags": []
   },
   "outputs": [],
   "source": [
    "if not os.path.exists(outpath):\n",
    "    # 创建新的文件夹\n",
    "    os.makedirs(outpath,exist_ok=True)\n",
    "    print(\"文件夹已创建\")\n",
    "else:\n",
    "    print(\"文件夹已存在\")\n",
    "\n",
    "os.chdir(outpath)"
   ]
  },
  {
   "cell_type": "code",
   "execution_count": null,
   "id": "b3dfcf1e-dfa1-4b91-88f0-b9cd4387afb3",
   "metadata": {
    "tags": []
   },
   "outputs": [],
   "source": [
    "sc.pp.calculate_qc_metrics(anndata, expr_type='unspliced', layer = \"unspliced\", inplace = True)"
   ]
  },
  {
   "cell_type": "code",
   "execution_count": null,
   "id": "4b8a5693-3506-43f6-a28d-70f11f57183c",
   "metadata": {
    "tags": []
   },
   "outputs": [],
   "source": [
    "## 过滤细胞，基因；sct，pca\n",
    "preprocessor = dyn.pp.Preprocessor(cell_cycle_score_enable=True)\n",
    "preprocessor.preprocess_adata(anndata, recipe='monocle')\n",
    "dyn.tl.reduceDimension(anndata, enforce = True)\n",
    "#dyn.pl.umap(anndata, color='celltype',show_legend= 'on data',alpha=1,background='black',pointsize=0.25,figsize=(8, 7), color_key=co) #alpha-透明度"
   ]
  },
  {
   "cell_type": "code",
   "execution_count": null,
   "id": "aa1876ca-b780-4aed-9c89-a3a583d201cc",
   "metadata": {
    "tags": []
   },
   "outputs": [],
   "source": [
    "## 计算高维空间的速度向量\n",
    "dyn.tl.dynamics(anndata,  cores=10)"
   ]
  },
  {
   "cell_type": "code",
   "execution_count": null,
   "id": "21d04e47-f530-44b8-8a0f-65ef339a5231",
   "metadata": {
    "tags": []
   },
   "outputs": [],
   "source": [
    "# 识别这些基因、评估速度估计的置信度\n",
    "dyn.tl.gene_wise_confidence(anndata, group='celltype',lineage_dict = {\"FB_oxidative_stress_Adult\" :[\"FB_myo_Adult\"]} )"
   ]
  },
  {
   "cell_type": "code",
   "execution_count": null,
   "id": "9b37083b-833b-4063-a01f-85b92421a91e",
   "metadata": {
    "tags": []
   },
   "outputs": [],
   "source": [
    "dyn.tl.reduceDimension(anndata, enforce = True)\n",
    "\n",
    "# Project high dimensional velocity vectors onto given low dimensional embeddings, and/or compute cell transition\n",
    "dyn.tl.cell_velocities(anndata, method=\"fp\", basis='spatial',enforce=True,  transition_genes = list(anndata.var_names[anndata.var.use_for_pca])) #先将 RNA 速度投影到 spatial 空间\n",
    "# 检查细胞速度的置信度\n",
    "dyn.tl.cell_wise_confidence(anndata)\n",
    "dyn.tl.confident_cell_velocities(anndata, group='celltype', lineage_dict={\"FB_oxidative_stress_Adult\" :[\"FB_myo_Adult\"]},only_transition_genes=True,basis='spatial')"
   ]
  },
  {
   "cell_type": "code",
   "execution_count": null,
   "id": "fbbe75b4-1a29-46a2-a82a-44d5f029ed88",
   "metadata": {
    "tags": []
   },
   "outputs": [],
   "source": [
    "dyn.vf.VectorField(anndata,\n",
    "                   basis='spatial',\n",
    "                   M=100)\n",
    "\n",
    "dyn.vf.rank_velocity_genes(anndata,\n",
    "                           groups='celltype',\n",
    "                           vkey=\"velocity_S\")\n",
    "\n",
    "dyn.vf.acceleration(anndata, basis='spatial')\n",
    "dyn.ext.ddhodge(anndata, basis='spatial')\n",
    "transition = DataFrame(anndata.var_names[anndata.var.use_for_transition])\n",
    "transition.columns = ['gene']\n",
    "transition_genes = transition['gene'].tolist()"
   ]
  },
  {
   "cell_type": "code",
   "execution_count": null,
   "id": "9146bafe-28a2-4fde-b8f2-1c42fb9d4f78",
   "metadata": {
    "tags": []
   },
   "outputs": [],
   "source": [
    "dyn.pl.streamline_plot(anndata, color=['celltype'],\n",
    "                       basis='spatial',\n",
    "                       show_legend='None',\n",
    "                       figsize=(8, 4),\n",
    "                       color_key=co,\n",
    "                       pointsize=0.05,\n",
    "                       background='black',\n",
    "                       cmap ='viridis',\n",
    "                       show_arrowed_spines=True,\n",
    "                       calpha=1,\n",
    "                       dpi=300,\n",
    "                       linewidth=0.5,\n",
    "                       s_kwargs_dict = {\"alpha\": 0.8},\n",
    "                       save_show_or_return='save',\n",
    "                       save_kwargs = {\"path\":\"./Adult_5d1_C01830E6F6/\",\"prefix\":\"celltype.spatial\"}\n",
    "                       #streamline_color = \"#ffffff\"\n",
    "                      )"
   ]
  },
  {
   "cell_type": "code",
   "execution_count": null,
   "id": "2a0eaea4-1224-4de6-8040-f0a35c432215",
   "metadata": {
    "tags": []
   },
   "outputs": [],
   "source": [
    "dyn.pl.streamline_plot(anndata, color=['spatial_ddhodge_potential'],\n",
    "                       basis='spatial',\n",
    "                       show_legend='None',\n",
    "                       figsize=(8, 4),\n",
    "                       color_key=co,\n",
    "                       pointsize=0.05,\n",
    "                       background='black',\n",
    "                       cmap ='viridis',\n",
    "                       show_arrowed_spines=True,\n",
    "                       calpha=1,\n",
    "                       dpi=300,\n",
    "                       linewidth=0.5,\n",
    "                       s_kwargs_dict = {\"alpha\": 0.8},\n",
    "                       save_show_or_return='save',\n",
    "                       save_kwargs = {\"path\":\"./Adult_5d1_C01830E6F6/\",\"prefix\":\"spatial_ddhodge_potential\"}\n",
    "                       #streamline_color = \"#ffffff\"\n",
    "                      )"
   ]
  },
  {
   "cell_type": "code",
   "execution_count": null,
   "id": "e5717b7a-7f47-4533-be21-7d18eca94788",
   "metadata": {},
   "outputs": [],
   "source": []
  }
 ],
 "metadata": {
  "kernelspec": {
   "display_name": "Python 3 (ipykernel)",
   "language": "python",
   "name": "python3"
  },
  "language_info": {
   "codemirror_mode": {
    "name": "ipython",
    "version": 3
   },
   "file_extension": ".py",
   "mimetype": "text/x-python",
   "name": "python",
   "nbconvert_exporter": "python",
   "pygments_lexer": "ipython3",
   "version": "3.8.14"
  }
 },
 "nbformat": 4,
 "nbformat_minor": 5
}
