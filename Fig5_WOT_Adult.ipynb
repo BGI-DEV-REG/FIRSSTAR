{
 "cells": [
  {
   "cell_type": "code",
   "execution_count": 8,
   "id": "0e3d3795-3f28-4a2c-b5cc-5dd7d770579f",
   "metadata": {
    "tags": []
   },
   "outputs": [],
   "source": [
    "import wot\n",
    "import numpy as np\n",
    "import os\n",
    "import scanpy as sc\n",
    "import seaborn as sns\n",
    "import anndata as ad\n",
    "import pandas as pd\n",
    "\n",
    "import ipywidgets as widgets\n",
    "from matplotlib import pyplot as plt"
   ]
  },
  {
   "cell_type": "code",
   "execution_count": 23,
   "id": "b7a99fd1-29cf-4654-8c73-67a20ff4b13f",
   "metadata": {},
   "outputs": [],
   "source": [
    "adata_hvg = ad.read_h5ad(\"./Rdata/20240510_scvi.h5ad\")"
   ]
  },
  {
   "cell_type": "code",
   "execution_count": 70,
   "id": "47194b53-7ff8-4fd9-9fa7-f3f95eaf3891",
   "metadata": {},
   "outputs": [],
   "source": [
    "pd.DataFrame(adata_hvg.var_names).to_csv(\"./table/hvg.csv\")"
   ]
  },
  {
   "cell_type": "code",
   "execution_count": 9,
   "id": "b876bab6-b28b-42e6-b780-491ab00c0a69",
   "metadata": {},
   "outputs": [],
   "source": [
    "adata = ad.read_h5ad('./Rdata/20240510_scvi_all.h5ad')"
   ]
  },
  {
   "cell_type": "code",
   "execution_count": 10,
   "id": "529b17fb-85f9-4b0e-abed-f7d0b58c0bc7",
   "metadata": {},
   "outputs": [
    {
     "name": "stderr",
     "output_type": "stream",
     "text": [
      "/data/lyx/software/anaconda3/envs/sc/lib/python3.9/site-packages/anndata/_core/anndata.py:1113: FutureWarning: is_categorical_dtype is deprecated and will be removed in a future version. Use isinstance(dtype, CategoricalDtype) instead\n",
      "  if not is_categorical_dtype(df_full[k]):\n",
      "/data/lyx/software/anaconda3/envs/sc/lib/python3.9/site-packages/anndata/_core/anndata.py:1113: FutureWarning: is_categorical_dtype is deprecated and will be removed in a future version. Use isinstance(dtype, CategoricalDtype) instead\n",
      "  if not is_categorical_dtype(df_full[k]):\n"
     ]
    }
   ],
   "source": [
    "adata = adata[adata.obs.Age==\"Adult\"].copy()\n",
    "adata = adata[adata.obs.celltype.isin(['Macr_Ms4a7', 'Macr_Trem2','Macr_Mmp14','Mono_Spp1','Mono_Ly6c'])].copy()"
   ]
  },
  {
   "cell_type": "code",
   "execution_count": 12,
   "id": "f86558e5-d886-4d60-9cdd-61fe95fe1cba",
   "metadata": {},
   "outputs": [
    {
     "name": "stderr",
     "output_type": "stream",
     "text": [
      "/data/lyx/software/anaconda3/envs/sc/lib/python3.9/site-packages/anndata/_core/anndata.py:1113: FutureWarning: is_categorical_dtype is deprecated and will be removed in a future version. Use isinstance(dtype, CategoricalDtype) instead\n",
      "  if not is_categorical_dtype(df_full[k]):\n"
     ]
    }
   ],
   "source": [
    "adata = adata[adata.obs.TimePostInjury.isin(['10D', '5D', '1D', '2D', '19D'])].copy()\n",
    "adata.obs.TimePostInjury = adata.obs['TimePostInjury'].to_list()"
   ]
  },
  {
   "cell_type": "code",
   "execution_count": 13,
   "id": "56dd463e-c5e6-4d70-be82-1705a4ac93e8",
   "metadata": {},
   "outputs": [],
   "source": [
    "adata.obs['Day'] = [int(i) for i in adata.obs['TimePostInjury'].str.replace(\"D\",\"\")]"
   ]
  },
  {
   "cell_type": "code",
   "execution_count": 14,
   "id": "a05cf235-c26d-44de-b33b-9165ee7761fa",
   "metadata": {},
   "outputs": [],
   "source": [
    "unique_days = adata.obs['Day'].unique()"
   ]
  },
  {
   "cell_type": "code",
   "execution_count": 16,
   "id": "d6a78860-2b4d-4856-9a66-96a34f8fb76e",
   "metadata": {},
   "outputs": [],
   "source": [
    "umap_coords = adata.obsm['X_umap']\n",
    "adata.obs = pd.concat([adata.obs[['main_celltype', 'orig.ident', 'doublet_info', 'doublet_score',\n",
    "       'AnalysisName', 'Age', 'TimePostInjury', 'Age_TimePostInjury',\n",
    "       'SampleIndex', 'S_score', 'G2M_score', 'phase', 'Injury_Phase',\n",
    "       'n_genes_by_counts', 'total_counts', 'total_counts_mt', 'pct_counts_mt','celltype','Day']],\n",
    "                       pd.DataFrame(umap_coords,columns=['UMAP_1','UMAP_2'],index=adata.obs_names)],axis=1)"
   ]
  },
  {
   "cell_type": "code",
   "execution_count": 17,
   "id": "19d2ec88-929f-485a-90c8-70812b9754a1",
   "metadata": {},
   "outputs": [
    {
     "name": "stdout",
     "output_type": "stream",
     "text": [
      "WARNING: adata.X seems to be already log-transformed.\n"
     ]
    }
   ],
   "source": [
    "sc.pp.normalize_total(adata, target_sum=1e4)\n",
    "sc.pp.log1p(adata)"
   ]
  },
  {
   "cell_type": "code",
   "execution_count": 18,
   "id": "5e4360d1-8678-4257-8c8b-5947ca1dc1be",
   "metadata": {},
   "outputs": [],
   "source": [
    "adata.write_h5ad(\"./Rdata/Adult_WotExp.h5ad\")"
   ]
  },
  {
   "cell_type": "code",
   "execution_count": 19,
   "id": "83a29f93-e5c3-4456-b1ef-816f10b48ea0",
   "metadata": {},
   "outputs": [],
   "source": [
    "days_df = adata.obs[['Day']].copy()\n",
    "days_df['id'] = days_df.index\n",
    "days_df = days_df[['id','Day']]\n",
    "days_df.columns = ['id','day']"
   ]
  },
  {
   "cell_type": "code",
   "execution_count": 20,
   "id": "6fc70132-948f-43b4-a21b-a8c20cfbabde",
   "metadata": {},
   "outputs": [],
   "source": [
    "coord_df = adata.obs[['UMAP_1','UMAP_2']].copy()\n",
    "coord_df['id']= coord_df.index\n",
    "coord_df= coord_df[['id','UMAP_1','UMAP_2']]\n",
    "coord_df.columns = ['id','x','y']"
   ]
  },
  {
   "cell_type": "code",
   "execution_count": 67,
   "id": "c9d171de-fb47-4a21-8bd4-56b3048d893e",
   "metadata": {},
   "outputs": [],
   "source": [
    "#coord_df.to_csv(\"./table/Adult_Wot_coord_df.txt\",sep=\"\\t\",index=None)\n",
    "days_df.to_csv(\"./table/Adult_Wot_days_df.txt\",sep=\"\\t\",index=None)"
   ]
  },
  {
   "cell_type": "code",
   "execution_count": 27,
   "id": "a15dfdf1-e977-4a1b-87ab-f7b28d19e7af",
   "metadata": {},
   "outputs": [
    {
     "name": "stderr",
     "output_type": "stream",
     "text": [
      "/data/lyx/software/anaconda3/envs/sc/lib/python3.9/site-packages/anndata/_core/anndata.py:1113: FutureWarning: is_categorical_dtype is deprecated and will be removed in a future version. Use isinstance(dtype, CategoricalDtype) instead\n",
      "  if not is_categorical_dtype(df_full[k]):\n"
     ]
    }
   ],
   "source": [
    "adata =adata[:,adata_hvg.var_names].copy()"
   ]
  },
  {
   "cell_type": "code",
   "execution_count": 65,
   "id": "29175fa1-dbae-4109-b1bc-b32cf2f5163b",
   "metadata": {},
   "outputs": [],
   "source": [
    "GENE_SETS_PATH = './table/adult_hvg_gene_sets.gmt'\n",
    "GENE_SET_SCORES_PATH = './table/adult_hvg_gene_set_scores.csv'\n",
    "CELL_SETS_PATH = \"./Gene_wot/adult_cell_set.gmt\""
   ]
  },
  {
   "cell_type": "code",
   "execution_count": 30,
   "id": "fcaf3a48-d63d-46ed-812f-9b654f0076a5",
   "metadata": {},
   "outputs": [],
   "source": [
    "cell_dic = {}\n",
    "for cell in ['Macr_Ms4a7', 'Macr_Trem2','Macr_Mmp14','Mono_Spp1','Mono_Ly6c']:\n",
    "    cells = adata.obs.index[adata.obs.celltype==cell].to_list()\n",
    "    cell_dic[cell]  = cells"
   ]
  },
  {
   "cell_type": "code",
   "execution_count": 45,
   "id": "15007661-2187-4a31-ae45-96fde597cdf7",
   "metadata": {},
   "outputs": [],
   "source": [
    "marker_gene = pd.read_csv(\"./table/20240512_celltype_scvi_markers.csv\",index_col=0)"
   ]
  },
  {
   "cell_type": "code",
   "execution_count": 48,
   "id": "8514142f-e3ab-4be7-84aa-2a31a9b62f3b",
   "metadata": {},
   "outputs": [],
   "source": [
    "marker_gene_dic = {}\n",
    "for cell in ['Macr_Ms4a7', 'Macr_Trem2','Macr_Mmp14','Mono_Spp1','Mono_Ly6c']:\n",
    "    gene = marker_gene.loc[marker_gene[cell+'_score']>0.05,cell+'_names'].to_list()\n",
    "    marker_gene_dic[cell]  = gene"
   ]
  },
  {
   "cell_type": "code",
   "execution_count": 49,
   "id": "bc3fca34-c07f-44dc-ae99-57e303d17b19",
   "metadata": {},
   "outputs": [],
   "source": [
    "with open(GENE_SETS_PATH,'w') as gmt:\n",
    "    for kcell,vgenes in marker_gene_dic.items():\n",
    "        gene ='\\t'.join(vgenes)\n",
    "        gmt.write(\"{0}\\t{1}\\t{2}\\n\".format(kcell,kcell,gene))   \n",
    "gmt.close()"
   ]
  },
  {
   "cell_type": "code",
   "execution_count": 32,
   "id": "9751ebf7-102b-4123-adad-9342ef2241ae",
   "metadata": {},
   "outputs": [],
   "source": [
    "with open(\"./Gene_wot/adult_cell_set.gmt\",'w') as gmt:\n",
    "    for kcell,vgenes in cell_dic.items():\n",
    "        gene ='\\t'.join(vgenes)\n",
    "        gmt.write(\"{0}\\t{1}\\t{2}\\n\".format(kcell,kcell,gene))   \n",
    "gmt.close()"
   ]
  },
  {
   "cell_type": "code",
   "execution_count": 50,
   "id": "e9e0b9cd-18d1-4cb4-9b57-ea96012fdd7c",
   "metadata": {
    "collapsed": true,
    "jupyter": {
     "outputs_hidden": true
    },
    "tags": []
   },
   "outputs": [
    {
     "name": "stderr",
     "output_type": "stream",
     "text": [
      "/data/lyx/software/anaconda3/envs/sc/lib/python3.9/site-packages/anndata/_core/anndata.py:1113: FutureWarning: is_categorical_dtype is deprecated and will be removed in a future version. Use isinstance(dtype, CategoricalDtype) instead\n",
      "  if not is_categorical_dtype(df_full[k]):\n",
      "/data/lyx/software/anaconda3/envs/sc/lib/python3.9/site-packages/anndata/_core/anndata.py:1113: FutureWarning: is_categorical_dtype is deprecated and will be removed in a future version. Use isinstance(dtype, CategoricalDtype) instead\n",
      "  if not is_categorical_dtype(df_full[k]):\n",
      "/data/lyx/software/anaconda3/envs/sc/lib/python3.9/site-packages/anndata/_core/anndata.py:1113: FutureWarning: is_categorical_dtype is deprecated and will be removed in a future version. Use isinstance(dtype, CategoricalDtype) instead\n",
      "  if not is_categorical_dtype(df_full[k]):\n",
      "/data/lyx/software/anaconda3/envs/sc/lib/python3.9/site-packages/anndata/_core/anndata.py:1113: FutureWarning: is_categorical_dtype is deprecated and will be removed in a future version. Use isinstance(dtype, CategoricalDtype) instead\n",
      "  if not is_categorical_dtype(df_full[k]):\n",
      "/data/lyx/software/anaconda3/envs/sc/lib/python3.9/site-packages/anndata/_core/anndata.py:1113: FutureWarning: is_categorical_dtype is deprecated and will be removed in a future version. Use isinstance(dtype, CategoricalDtype) instead\n",
      "  if not is_categorical_dtype(df_full[k]):\n"
     ]
    }
   ],
   "source": [
    "gs = wot.io.read_sets(GENE_SETS_PATH, adata.var.index.values)\n",
    "gene_set_scores_df = pd.DataFrame(index=adata.obs.index)\n",
    "for j in range(gs.shape[1]):\n",
    "    gene_set_name = str(gs.var.index.values[j])\n",
    "    result = wot.score_gene_sets(ds=adata, gs=gs[:, [j]], permutations=0, method='mean_z_score')\n",
    "    gene_set_scores_df[gene_set_name] = result['score']\n",
    "gene_set_scores_df.to_csv(GENE_SET_SCORES_PATH, index_label='id')"
   ]
  },
  {
   "cell_type": "code",
   "execution_count": 7,
   "id": "1eda2759-16ad-4d3c-97f8-4d1877974966",
   "metadata": {},
   "outputs": [],
   "source": [
    "import ipywidgets as widgets\n",
    "from matplotlib import pyplot as plt\n",
    "import anndata as ad\n",
    "import wot\n",
    "\n",
    "# input paths\n",
    "FULL_DS_PATH = './Rdata/Adult_WotExp.h5ad'\n",
    "TMAP_PATH = './wot_2/tmaps/mnp'\n",
    "GENE_SETS_PATH = './table/Adult_hvg_gene_sets.gmt'\n",
    "GENE_SET_SCORES_PATH = './table/Adult_hvg_gene_set_scores.csv'\n",
    "CELL_SETS_PATH = \"./Gene_wot/adult_cell_set.gmt\"\n",
    "CELL_DAYS_PATH = './table/Adult_Wot_days_df.txt'\n",
    "COORDS_PATH = './table/Adult_Wot_coord_df.txt'"
   ]
  },
  {
   "cell_type": "code",
   "execution_count": 4,
   "id": "a284d925-8c8a-48b7-ab19-83b41cde3990",
   "metadata": {},
   "outputs": [],
   "source": [
    "adata = wot.io.read_dataset(FULL_DS_PATH, obs=[CELL_DAYS_PATH])"
   ]
  },
  {
   "cell_type": "code",
   "execution_count": 5,
   "id": "40915b62-1109-40bd-a41b-39915ea853df",
   "metadata": {},
   "outputs": [],
   "source": [
    "Mono_Ly6c = adata.obs.index[adata.obs.celltype=='Mono_Ly6c'].to_list()\n",
    "Macr_Ms4a7 = adata.obs.index[adata.obs.celltype=='Macr_Ms4a7'].to_list()\n",
    "Mono_Spp1 = adata.obs.index[adata.obs.celltype=='Mono_Spp1'].to_list()\n",
    "Macr_Mmp14 = adata.obs.index[adata.obs.celltype=='Macr_Mmp14'].to_list()\n",
    "Macr_Trem2 = adata.obs.index[adata.obs.celltype=='Macr_Trem2'].to_list()"
   ]
  },
  {
   "cell_type": "code",
   "execution_count": 8,
   "id": "10a876bb-d139-468e-a219-9038b06bfd5a",
   "metadata": {},
   "outputs": [],
   "source": [
    "tmap_model = wot.tmap.TransportMapModel.from_directory(TMAP_PATH)\n",
    "cell_sets = wot.io.read_sets(CELL_SETS_PATH, as_dict=True)"
   ]
  },
  {
   "cell_type": "code",
   "execution_count": 9,
   "id": "5b753591-1ded-449a-90b9-9ff9f8d23061",
   "metadata": {},
   "outputs": [],
   "source": [
    "color_list = pd.read_csv(\"./All/color_for_cellchat_0529.csv\",index_col=0)\n",
    "dic_cl = pd.DataFrame.to_dict(color_list[['color']],orient='dict')['color']"
   ]
  },
  {
   "cell_type": "code",
   "execution_count": 141,
   "id": "d8bef10b-29c9-4e01-8c70-5a5b68ac5966",
   "metadata": {},
   "outputs": [],
   "source": [
    "prob = 1\n",
    "day = 5\n",
    "name1 = \"Macr_Ms4a7\"\n",
    "name2 = \"Mono_Spp1\"\n",
    "#name1 = \"Macr_Trem2\"\n",
    "target_destinations = tmap_model.population_from_cell_sets(cell_sets, at_time=day)\n",
    "fate_ds = tmap_model.fates(target_destinations)\n",
    "fate1 = fate_ds[fate_ds.obs['day'].isin([1,2])&fate_ds.obs_names.isin(Macr_Ms4a7)][:, name1].X.flatten()\n",
    "fate2 = fate_ds[fate_ds.obs['day'].isin([1,2])&fate_ds.obs_names.isin(Macr_Ms4a7)][:, name2].X.flatten()\n",
    "# Macr_Ms4a7 = adata.obs_names[adata.obs.celltype=='Macr_Ms4a7']\n",
    "# fate_tmp = fate_ds[fate_ds.obs['day'] == 3].copy()\n",
    "# ct = adata.obs.celltype[fate_tmp.obs_names].tolist()\n",
    "# fate1 = fate_tmp[fate_tmp.obs_names.isin(Mono_Spp1)][:, name1].X.flatten()\n",
    "# fate2 = fate_tmp[fate_tmp.obs_names.isin(Mono_Spp1)][:, name2].X.flatten()"
   ]
  },
  {
   "cell_type": "code",
   "execution_count": null,
   "id": "bed4a46a-3c8c-4dea-b520-59380af28f55",
   "metadata": {},
   "outputs": [],
   "source": [
    "prob = 1\n",
    "day = 10\n",
    "name1 = \"Macr_Trem2\"\n",
    "name2 = \"Macr_Mmp14\"\n",
    "target_destinations = tmap_model.population_from_cell_sets(cell_sets, at_time=day)\n",
    "fate_ds = tmap_model.fates(target_destinations)\n",
    "fate1 = fate_ds[fate_ds.obs['day'].isin([1,2,3])][:, name1].X.flatten()\n",
    "fate2 = fate_ds[fate_ds.obs['day'].isin([1,2,3])][:, name2].X.flatten()"
   ]
  },
  {
   "cell_type": "code",
   "execution_count": 150,
   "id": "387bd5b2-7f43-4cd3-a522-5d5fe8a273c2",
   "metadata": {},
   "outputs": [
    {
     "data": {
      "image/png": "[encoded data removed]",
      "text/plain": [
       "<Figure size 640x480 with 1 Axes>"
      ]
     },
     "metadata": {},
     "output_type": "display_data"
    }
   ],
   "source": [
    "import matplotlib.pyplot as plt\n",
    "import numpy as np\n",
    "import math\n",
    "\n",
    "Nrows = len(fate1)\n",
    "x = np.zeros(Nrows)\n",
    "y = np.zeros(Nrows)\n",
    "P = np.array([[1,0],[np.cos(2*math.pi/3),math.sin(2*math.pi/3)],[math.cos(4*math.pi/3),math.sin(4*math.pi/3)]])\n",
    "\n",
    "for i in range(0,Nrows):\n",
    "    ff = np.array([fate1[i],fate2[i],1-(fate1[i]+fate2[i])])\n",
    "    x[i] = (ff @ P)[0]\n",
    "    y[i] = (ff @ P)[1]\n",
    "\n",
    "vx = P[:,0]\n",
    "vy = P[:,1]\n",
    "t1 = plt.Polygon(P, color=(0,0,0,0.1))\n",
    "plt.gca().add_patch(t1)\n",
    "# for celltype in list(set(ct)):\n",
    "#     idx = [i for i, x in enumerate(ct) if x == celltype]\n",
    "#     plt.scatter(x[idx],y[idx],s=1,c=dic_cl[celltype])\n",
    "plt.scatter(x,y,s=3,c=\"#f9320c\",alpha=0.4)\n",
    "plt.scatter(vx,vy)\n",
    "plt.scatter(0,0)\n",
    "plt.text(P[0,0]+.1, P[0,1], name1)\n",
    "plt.text(P[1,0]-.1, P[1,1]+.1, name2)\n",
    "plt.text(P[2,0]-.1, P[2,1]-.2, 'Other')\n",
    "plt.axis('equal')\n",
    "plt.axis('off')\n",
    "#plt.xticks([])\n",
    "#plt.yticks([])\n",
    "\n",
    "plt.title('{} vs. {} on day {}'.format(name1, name2,day))\n",
    "plt.savefig(\"./figures/Adult_Day10_Mmp14_to_Mmp14andTrem2.pdf\",format='pdf')\n",
    "# plt.savefig(\"./figures/Adult_Day5_Il0_to_Mmp14andTrem2.pdf\",format='pdf')\n",
    "# plt.savefig(\"./figures/Adult_Day3_All_to_Il10andSpp1.pdf\",format='pdf')\n",
    "#plt.savefig(\"./figures/Adult_Day2_Ly6c_to_Il10andSpp1.pdf\",format='pdf')"
   ]
  }
 ],
 "metadata": {
  "kernelspec": {
   "display_name": "sc",
   "language": "python",
   "name": "sc"
  },
  "language_info": {
   "codemirror_mode": {
    "name": "ipython",
    "version": 3
   },
   "file_extension": ".py",
   "mimetype": "text/x-python",
   "name": "python",
   "nbconvert_exporter": "python",
   "pygments_lexer": "ipython3",
   "version": "3.9.18"
  }
 },
 "nbformat": 4,
 "nbformat_minor": 5
}
