{
 "cells": [
  {
   "cell_type": "code",
   "execution_count": 1,
   "id": "f40c9c2c-be53-4509-95c7-b34fe184a18a",
   "metadata": {
    "execution": {
     "iopub.execute_input": "2024-10-21T13:01:45.853303Z",
     "iopub.status.busy": "2024-10-21T13:01:45.848648Z",
     "iopub.status.idle": "2024-10-21T13:01:47.241158Z",
     "shell.execute_reply": "2024-10-21T13:01:47.238290Z"
    },
    "tags": []
   },
   "outputs": [
    {
     "name": "stderr",
     "output_type": "stream",
     "text": [
      "Warning message in system(\"timedatectl\", intern = TRUE):\n",
      "“running command 'timedatectl' had status 1”\n",
      "── \u001b[1mAttaching core tidyverse packages\u001b[22m ──────────────────────── tidyverse 2.0.0 ──\n",
      "\u001b[32m✔\u001b[39m \u001b[34mdplyr    \u001b[39m 1.1.4     \u001b[32m✔\u001b[39m \u001b[34mreadr    \u001b[39m 2.1.5\n",
      "\u001b[32m✔\u001b[39m \u001b[34mforcats  \u001b[39m 1.0.0     \u001b[32m✔\u001b[39m \u001b[34mstringr  \u001b[39m 1.5.1\n",
      "\u001b[32m✔\u001b[39m \u001b[34mggplot2  \u001b[39m 3.5.1     \u001b[32m✔\u001b[39m \u001b[34mtibble   \u001b[39m 3.2.1\n",
      "\u001b[32m✔\u001b[39m \u001b[34mlubridate\u001b[39m 1.9.2     \u001b[32m✔\u001b[39m \u001b[34mtidyr    \u001b[39m 1.3.1\n",
      "\u001b[32m✔\u001b[39m \u001b[34mpurrr    \u001b[39m 1.0.2     \n",
      "── \u001b[1mConflicts\u001b[22m ────────────────────────────────────────── tidyverse_conflicts() ──\n",
      "\u001b[31m✖\u001b[39m \u001b[34mdplyr\u001b[39m::\u001b[32mfilter()\u001b[39m masks \u001b[34mstats\u001b[39m::filter()\n",
      "\u001b[31m✖\u001b[39m \u001b[34mdplyr\u001b[39m::\u001b[32mlag()\u001b[39m    masks \u001b[34mstats\u001b[39m::lag()\n",
      "\u001b[36mℹ\u001b[39m Use the conflicted package (\u001b[3m\u001b[34m<http://conflicted.r-lib.org/>\u001b[39m\u001b[23m) to force all conflicts to become errors\n"
     ]
    }
   ],
   "source": [
    "library(tidyverse)"
   ]
  },
  {
   "cell_type": "code",
   "execution_count": 2,
   "id": "8a3a7c73-dfea-4456-838c-39d61cefa7eb",
   "metadata": {
    "execution": {
     "iopub.execute_input": "2024-10-21T13:01:47.292115Z",
     "iopub.status.busy": "2024-10-21T13:01:47.245078Z",
     "iopub.status.idle": "2024-10-21T13:01:47.473062Z",
     "shell.execute_reply": "2024-10-21T13:01:47.470100Z"
    },
    "tags": []
   },
   "outputs": [],
   "source": [
    "library(ggplot2)\n",
    "library(ggpubr)"
   ]
  },
  {
   "cell_type": "code",
   "execution_count": 3,
   "id": "9f82c764-5ede-442c-b11d-79f4848ba667",
   "metadata": {
    "execution": {
     "iopub.execute_input": "2024-10-21T13:01:47.479067Z",
     "iopub.status.busy": "2024-10-21T13:01:47.477048Z",
     "iopub.status.idle": "2024-10-21T13:01:47.527043Z",
     "shell.execute_reply": "2024-10-21T13:01:47.524632Z"
    },
    "tags": []
   },
   "outputs": [
    {
     "data": {
      "text/html": [
       "<table class=\"dataframe\">\n",
       "<caption>A data.frame: 6 × 3</caption>\n",
       "<thead>\n",
       "\t<tr><th></th><th scope=col>Group</th><th scope=col>Wound</th><th scope=col>SR</th></tr>\n",
       "\t<tr><th></th><th scope=col>&lt;fct&gt;</th><th scope=col>&lt;chr&gt;</th><th scope=col>&lt;dbl&gt;</th></tr>\n",
       "</thead>\n",
       "<tbody>\n",
       "\t<tr><th scope=row>1</th><td>Adult</td><td>Control</td><td>1.833001</td></tr>\n",
       "\t<tr><th scope=row>2</th><td>Adult</td><td>Control</td><td>1.768298</td></tr>\n",
       "\t<tr><th scope=row>3</th><td>Adult</td><td>Control</td><td>1.753054</td></tr>\n",
       "\t<tr><th scope=row>4</th><td>Adult</td><td>Wound  </td><td>2.578277</td></tr>\n",
       "\t<tr><th scope=row>5</th><td>Adult</td><td>Wound  </td><td>3.204944</td></tr>\n",
       "\t<tr><th scope=row>6</th><td>Adult</td><td>Wound  </td><td>3.340301</td></tr>\n",
       "</tbody>\n",
       "</table>\n"
      ],
      "text/latex": [
       "A data.frame: 6 × 3\n",
       "\\begin{tabular}{r|lll}\n",
       "  & Group & Wound & SR\\\\\n",
       "  & <fct> & <chr> & <dbl>\\\\\n",
       "\\hline\n",
       "\t1 & Adult & Control & 1.833001\\\\\n",
       "\t2 & Adult & Control & 1.768298\\\\\n",
       "\t3 & Adult & Control & 1.753054\\\\\n",
       "\t4 & Adult & Wound   & 2.578277\\\\\n",
       "\t5 & Adult & Wound   & 3.204944\\\\\n",
       "\t6 & Adult & Wound   & 3.340301\\\\\n",
       "\\end{tabular}\n"
      ],
      "text/markdown": [
       "\n",
       "A data.frame: 6 × 3\n",
       "\n",
       "| <!--/--> | Group &lt;fct&gt; | Wound &lt;chr&gt; | SR &lt;dbl&gt; |\n",
       "|---|---|---|---|\n",
       "| 1 | Adult | Control | 1.833001 |\n",
       "| 2 | Adult | Control | 1.768298 |\n",
       "| 3 | Adult | Control | 1.753054 |\n",
       "| 4 | Adult | Wound   | 2.578277 |\n",
       "| 5 | Adult | Wound   | 3.204944 |\n",
       "| 6 | Adult | Wound   | 3.340301 |\n",
       "\n"
      ],
      "text/plain": [
       "  Group Wound   SR      \n",
       "1 Adult Control 1.833001\n",
       "2 Adult Control 1.768298\n",
       "3 Adult Control 1.753054\n",
       "4 Adult Wound   2.578277\n",
       "5 Adult Wound   3.204944\n",
       "6 Adult Wound   3.340301"
      ]
     },
     "metadata": {},
     "output_type": "display_data"
    }
   ],
   "source": [
    "df = read.csv(\"/data/work/MASSON/SR_20241021.csv\")\n",
    "df = df[!is.na(df$SR),]\n",
    "df$Group = factor(df$Group, levels=c(\"E16.5\", \"E17.5\", \"E18.5\", \"P0\", \"P5\", \"Adult\"))\n",
    "head(df)"
   ]
  },
  {
   "cell_type": "code",
   "execution_count": 4,
   "id": "2bd92c5b-dd6d-4e37-a55e-1fed14bb904b",
   "metadata": {
    "execution": {
     "iopub.execute_input": "2024-10-21T13:01:47.532711Z",
     "iopub.status.busy": "2024-10-21T13:01:47.530716Z",
     "iopub.status.idle": "2024-10-21T13:01:47.580332Z",
     "shell.execute_reply": "2024-10-21T13:01:47.577533Z"
    },
    "tags": []
   },
   "outputs": [],
   "source": [
    "# 复制 P0 Control 行并分配到 E16.5, E17.5, E18.5 组\n",
    "df_control <- df %>% filter(Group == \"P0\")\n",
    "df_control <- bind_rows(df_control,df_control, df_control)\n",
    "df_control <- df_control %>% mutate(Group = factor(rep(c(\"E16.5\", \"E17.5\", \"E18.5\"),each = 3)))\n",
    "df_combined <- bind_rows(filter(df, Group != \"P0\"), df_control)"
   ]
  },
  {
   "cell_type": "code",
   "execution_count": 5,
   "id": "c030fbc4-3392-4a09-8aa4-a65801b75ef3",
   "metadata": {
    "execution": {
     "iopub.execute_input": "2024-10-21T13:01:47.594810Z",
     "iopub.status.busy": "2024-10-21T13:01:47.592787Z",
     "iopub.status.idle": "2024-10-21T13:01:47.704810Z",
     "shell.execute_reply": "2024-10-21T13:01:47.702221Z"
    },
    "tags": []
   },
   "outputs": [
    {
     "name": "stderr",
     "output_type": "stream",
     "text": [
      "\u001b[1m\u001b[22m`summarise()` has grouped output by 'Group'. You can override using the\n",
      "`.groups` argument.\n"
     ]
    },
    {
     "data": {
      "text/html": [
       "<table class=\"dataframe\">\n",
       "<caption>A grouped_df: 15 × 4</caption>\n",
       "<thead>\n",
       "\t<tr><th scope=col>Group</th><th scope=col>Wound</th><th scope=col>Mean</th><th scope=col>SE</th></tr>\n",
       "\t<tr><th scope=col>&lt;fct&gt;</th><th scope=col>&lt;chr&gt;</th><th scope=col>&lt;dbl&gt;</th><th scope=col>&lt;dbl&gt;</th></tr>\n",
       "</thead>\n",
       "<tbody>\n",
       "\t<tr><td>E16.5</td><td>Control  </td><td>1.550032</td><td>0.07932972</td></tr>\n",
       "\t<tr><td>E16.5</td><td>Periwound</td><td>1.280377</td><td>0.02844325</td></tr>\n",
       "\t<tr><td>E16.5</td><td>Wound    </td><td>1.549037</td><td>0.07651308</td></tr>\n",
       "\t<tr><td>E17.5</td><td>Control  </td><td>1.550032</td><td>0.07932972</td></tr>\n",
       "\t<tr><td>E17.5</td><td>Periwound</td><td>1.775916</td><td>0.08363468</td></tr>\n",
       "\t<tr><td>E17.5</td><td>Wound    </td><td>1.795464</td><td>0.08996248</td></tr>\n",
       "\t<tr><td>E18.5</td><td>Control  </td><td>1.550032</td><td>0.07932972</td></tr>\n",
       "\t<tr><td>E18.5</td><td>Periwound</td><td>1.187683</td><td>0.02924069</td></tr>\n",
       "\t<tr><td>E18.5</td><td>Wound    </td><td>1.354118</td><td>0.08417868</td></tr>\n",
       "\t<tr><td>P5   </td><td>Control  </td><td>1.675827</td><td>0.10560931</td></tr>\n",
       "\t<tr><td>P5   </td><td>Periwound</td><td>1.668919</td><td>0.08210219</td></tr>\n",
       "\t<tr><td>P5   </td><td>Wound    </td><td>1.355500</td><td>0.05412784</td></tr>\n",
       "\t<tr><td>Adult</td><td>Control  </td><td>1.784784</td><td>0.02450667</td></tr>\n",
       "\t<tr><td>Adult</td><td>Periwound</td><td>1.981606</td><td>0.08721526</td></tr>\n",
       "\t<tr><td>Adult</td><td>Wound    </td><td>3.041174</td><td>0.23472339</td></tr>\n",
       "</tbody>\n",
       "</table>\n"
      ],
      "text/latex": [
       "A grouped\\_df: 15 × 4\n",
       "\\begin{tabular}{llll}\n",
       " Group & Wound & Mean & SE\\\\\n",
       " <fct> & <chr> & <dbl> & <dbl>\\\\\n",
       "\\hline\n",
       "\t E16.5 & Control   & 1.550032 & 0.07932972\\\\\n",
       "\t E16.5 & Periwound & 1.280377 & 0.02844325\\\\\n",
       "\t E16.5 & Wound     & 1.549037 & 0.07651308\\\\\n",
       "\t E17.5 & Control   & 1.550032 & 0.07932972\\\\\n",
       "\t E17.5 & Periwound & 1.775916 & 0.08363468\\\\\n",
       "\t E17.5 & Wound     & 1.795464 & 0.08996248\\\\\n",
       "\t E18.5 & Control   & 1.550032 & 0.07932972\\\\\n",
       "\t E18.5 & Periwound & 1.187683 & 0.02924069\\\\\n",
       "\t E18.5 & Wound     & 1.354118 & 0.08417868\\\\\n",
       "\t P5    & Control   & 1.675827 & 0.10560931\\\\\n",
       "\t P5    & Periwound & 1.668919 & 0.08210219\\\\\n",
       "\t P5    & Wound     & 1.355500 & 0.05412784\\\\\n",
       "\t Adult & Control   & 1.784784 & 0.02450667\\\\\n",
       "\t Adult & Periwound & 1.981606 & 0.08721526\\\\\n",
       "\t Adult & Wound     & 3.041174 & 0.23472339\\\\\n",
       "\\end{tabular}\n"
      ],
      "text/markdown": [
       "\n",
       "A grouped_df: 15 × 4\n",
       "\n",
       "| Group &lt;fct&gt; | Wound &lt;chr&gt; | Mean &lt;dbl&gt; | SE &lt;dbl&gt; |\n",
       "|---|---|---|---|\n",
       "| E16.5 | Control   | 1.550032 | 0.07932972 |\n",
       "| E16.5 | Periwound | 1.280377 | 0.02844325 |\n",
       "| E16.5 | Wound     | 1.549037 | 0.07651308 |\n",
       "| E17.5 | Control   | 1.550032 | 0.07932972 |\n",
       "| E17.5 | Periwound | 1.775916 | 0.08363468 |\n",
       "| E17.5 | Wound     | 1.795464 | 0.08996248 |\n",
       "| E18.5 | Control   | 1.550032 | 0.07932972 |\n",
       "| E18.5 | Periwound | 1.187683 | 0.02924069 |\n",
       "| E18.5 | Wound     | 1.354118 | 0.08417868 |\n",
       "| P5    | Control   | 1.675827 | 0.10560931 |\n",
       "| P5    | Periwound | 1.668919 | 0.08210219 |\n",
       "| P5    | Wound     | 1.355500 | 0.05412784 |\n",
       "| Adult | Control   | 1.784784 | 0.02450667 |\n",
       "| Adult | Periwound | 1.981606 | 0.08721526 |\n",
       "| Adult | Wound     | 3.041174 | 0.23472339 |\n",
       "\n"
      ],
      "text/plain": [
       "   Group Wound     Mean     SE        \n",
       "1  E16.5 Control   1.550032 0.07932972\n",
       "2  E16.5 Periwound 1.280377 0.02844325\n",
       "3  E16.5 Wound     1.549037 0.07651308\n",
       "4  E17.5 Control   1.550032 0.07932972\n",
       "5  E17.5 Periwound 1.775916 0.08363468\n",
       "6  E17.5 Wound     1.795464 0.08996248\n",
       "7  E18.5 Control   1.550032 0.07932972\n",
       "8  E18.5 Periwound 1.187683 0.02924069\n",
       "9  E18.5 Wound     1.354118 0.08417868\n",
       "10 P5    Control   1.675827 0.10560931\n",
       "11 P5    Periwound 1.668919 0.08210219\n",
       "12 P5    Wound     1.355500 0.05412784\n",
       "13 Adult Control   1.784784 0.02450667\n",
       "14 Adult Periwound 1.981606 0.08721526\n",
       "15 Adult Wound     3.041174 0.23472339"
      ]
     },
     "metadata": {},
     "output_type": "display_data"
    }
   ],
   "source": [
    "df_summary <- df_combined %>%\n",
    "  group_by(Group, Wound) %>%\n",
    "  summarise(Mean = mean(SR), SE = sd(SR) / sqrt(n()))\n",
    "df_summary"
   ]
  },
  {
   "cell_type": "code",
   "execution_count": 6,
   "id": "8b6b90be-1524-48ae-b5b7-c970afeba111",
   "metadata": {
    "execution": {
     "iopub.execute_input": "2024-10-21T13:01:47.710969Z",
     "iopub.status.busy": "2024-10-21T13:01:47.708786Z",
     "iopub.status.idle": "2024-10-21T13:01:47.890642Z",
     "shell.execute_reply": "2024-10-21T13:01:47.887823Z"
    },
    "tags": []
   },
   "outputs": [
    {
     "data": {
      "text/plain": [
       "geom_blank: na.rm = FALSE\n",
       "stat_identity: na.rm = FALSE\n",
       "position_identity "
      ]
     },
     "metadata": {},
     "output_type": "display_data"
    }
   ],
   "source": [
    "# 绘制柱状图\n",
    "p <- ggplot(df_summary, aes(x = Group, y = Mean, color = Wound)) +\n",
    "  geom_bar(stat = \"identity\", position = position_dodge(width = 0.8), width = 0.75, fill='white')+\n",
    "  geom_errorbar(aes(ymin = Mean - SE, ymax = Mean + SE), \n",
    "                position = position_dodge(width = 0.8), width = 0.25) +\n",
    "  geom_point(data = df_combined, aes(x = Group, y = SR, fill = Wound), \n",
    "             position = position_jitterdodge(jitter.width = 0.2, dodge.width = 0.8), size = 2) +\n",
    "  labs(title = \"\", x = \"\", y = \"Collagen I/III ratio\")  +\n",
    "  scale_y_continuous(limits = c(0, 4)) + \n",
    "  scale_color_manual(values = c(\"black\",\"#159DC0\", \"#EE4143\"))# +\n",
    "  # scale_pattern_manual(values = c(\"none\", \"stripe\")) +\n",
    "  geom_blank()\n",
    "\n",
    "\n",
    "science_theme <- theme(\n",
    "  panel.background = element_blank(),  # 去除背景\n",
    "  panel.grid.major = element_blank(),  # 去除主网格线\n",
    "  panel.grid.minor = element_blank(),  # 去除次网格线\n",
    "  axis.line = element_line(color = \"black\"),  # 坐标轴线颜色\n",
    "  axis.ticks = element_line(color = \"black\"),  # 坐标轴刻度线颜色\n",
    "  axis.text = element_text(size = 12, color = \"black\"),  # 坐标轴文字大小和颜色\n",
    "  axis.title = element_text(size = 14, face = \"bold\"),  # 坐标轴标题大小和加粗\n",
    "  plot.title = element_text(size = 16, face = \"bold\", hjust = 0.5),  # 图标题大小、加粗和居中\n",
    "  legend.position = \"none\"  # 去除图例\n",
    ")\n",
    "\n",
    "p <- p + science_theme"
   ]
  },
  {
   "cell_type": "code",
   "execution_count": 7,
   "id": "942d33b7-58fe-4021-bdb2-76cdb77b739b",
   "metadata": {
    "execution": {
     "iopub.execute_input": "2024-10-21T13:01:47.897105Z",
     "iopub.status.busy": "2024-10-21T13:01:47.894893Z",
     "iopub.status.idle": "2024-10-21T13:01:48.655492Z",
     "shell.execute_reply": "2024-10-21T13:01:48.653144Z"
    },
    "tags": []
   },
   "outputs": [
    {
     "data": {
      "image/png": "[encoded data removed]",
      "text/plain": [
       "plot without title"
      ]
     },
     "metadata": {
      "image/png": {
       "height": 360,
       "width": 480
      }
     },
     "output_type": "display_data"
    }
   ],
   "source": [
    "options(repr.plot.width=8, repr.plot.height=6)\n",
    "p"
   ]
  },
  {
   "cell_type": "code",
   "execution_count": 8,
   "id": "8ef2aea2-4be7-46a8-ab66-3fcf48ead525",
   "metadata": {
    "execution": {
     "iopub.execute_input": "2024-10-21T13:01:48.661125Z",
     "iopub.status.busy": "2024-10-21T13:01:48.659196Z",
     "iopub.status.idle": "2024-10-21T13:01:49.158357Z",
     "shell.execute_reply": "2024-10-21T13:01:49.155448Z"
    },
    "tags": []
   },
   "outputs": [],
   "source": [
    "ggsave(\"SR_bar_241021.pdf\", width=7, height=5)"
   ]
  },
  {
   "cell_type": "code",
   "execution_count": null,
   "id": "9f34b3a5-93c1-4e34-85d3-28e982c790fa",
   "metadata": {},
   "outputs": [],
   "source": []
  },
  {
   "cell_type": "code",
   "execution_count": 9,
   "id": "44114420-0ac5-4ba5-9e24-61d8fc65b6bf",
   "metadata": {
    "execution": {
     "iopub.execute_input": "2024-10-21T13:01:49.163883Z",
     "iopub.status.busy": "2024-10-21T13:01:49.161961Z",
     "iopub.status.idle": "2024-10-21T13:02:06.644601Z",
     "shell.execute_reply": "2024-10-21T13:02:06.639745Z"
    },
    "tags": []
   },
   "outputs": [
    {
     "name": "stderr",
     "output_type": "stream",
     "text": [
      "Updating HTML index of packages in '.Library'\n",
      "\n",
      "Warning message in file.create(f.tg):\n",
      "“cannot create file '/opt/conda/lib/R/doc/html/packages.html', reason 'Permission denied'”\n",
      "Warning message in make.packages.html(.Library):\n",
      "“cannot update HTML package index”\n"
     ]
    }
   ],
   "source": [
    "install.packages(\"agricolae\")"
   ]
  },
  {
   "cell_type": "code",
   "execution_count": 10,
   "id": "538a54f4-c151-478d-a47e-25bedb16ba16",
   "metadata": {
    "execution": {
     "iopub.execute_input": "2024-10-21T13:02:06.655454Z",
     "iopub.status.busy": "2024-10-21T13:02:06.651757Z",
     "iopub.status.idle": "2024-10-21T13:02:06.812578Z",
     "shell.execute_reply": "2024-10-21T13:02:06.809412Z"
    },
    "tags": []
   },
   "outputs": [],
   "source": [
    "library(agricolae)"
   ]
  },
  {
   "cell_type": "code",
   "execution_count": 11,
   "id": "be6479c7-c0ac-43db-9377-df043b2c9fa5",
   "metadata": {
    "execution": {
     "iopub.execute_input": "2024-10-21T13:02:06.819546Z",
     "iopub.status.busy": "2024-10-21T13:02:06.817173Z",
     "iopub.status.idle": "2024-10-21T13:02:06.845883Z",
     "shell.execute_reply": "2024-10-21T13:02:06.843202Z"
    },
    "tags": []
   },
   "outputs": [],
   "source": [
    "fit = aov(SR ~ Wound * Group, data=df)"
   ]
  },
  {
   "cell_type": "code",
   "execution_count": 12,
   "id": "b72c103e-3ed4-448e-ba5a-50addc748cad",
   "metadata": {
    "execution": {
     "iopub.execute_input": "2024-10-21T13:02:06.852032Z",
     "iopub.status.busy": "2024-10-21T13:02:06.849852Z",
     "iopub.status.idle": "2024-10-21T13:02:07.023816Z",
     "shell.execute_reply": "2024-10-21T13:02:07.021286Z"
    },
    "tags": []
   },
   "outputs": [
    {
     "name": "stdout",
     "output_type": "stream",
     "text": [
      "$statistics\n",
      "     MSerror Df     Mean       CV      MSD\n",
      "  0.02771806 26 1.692341 9.837698 0.493998\n",
      "\n",
      "$parameters\n",
      "   test      name.t ntr StudentizedRange alpha\n",
      "  Tukey Wound:Group  13         5.139305  0.05\n",
      "\n",
      "$means\n",
      "                      SR        std r         se      Min      Max      Q25\n",
      "Control:Adult   1.784784 0.04244679 3 0.09612156 1.753054 1.833001 1.760676\n",
      "Control:P0      1.550032 0.13740310 3 0.09612156 1.399151 1.667967 1.491065\n",
      "Control:P5      1.675827 0.18292070 3 0.09612156 1.538778 1.883539 1.571971\n",
      "Periwound:Adult 1.981606 0.15106126 3 0.09612156 1.892047 2.156015 1.894401\n",
      "Periwound:E16.5 1.280377 0.04926515 3 0.09612156 1.223495 1.309439 1.265846\n",
      "Periwound:E17.5 1.775916 0.14485952 3 0.09612156 1.641699 1.929475 1.699137\n",
      "Periwound:E18.5 1.187683 0.05064636 3 0.09612156 1.139547 1.240513 1.161268\n",
      "Periwound:P5    1.668919 0.14220516 3 0.09612156 1.520785 1.804342 1.601207\n",
      "Wound:Adult     3.041174 0.40655283 3 0.09612156 2.578277 3.340301 2.891610\n",
      "Wound:E16.5     1.549037 0.13252454 3 0.09612156 1.438134 1.695802 1.475654\n",
      "Wound:E17.5     1.795464 0.15581958 3 0.09612156 1.617989 1.909828 1.738282\n",
      "Wound:E18.5     1.354118 0.14580174 3 0.09612156 1.263368 1.522300 1.270028\n",
      "Wound:P5        1.355500 0.09375216 3 0.09612156 1.273988 1.457951 1.304275\n",
      "                     Q50      Q75\n",
      "Control:Adult   1.768298 1.800650\n",
      "Control:P0      1.582979 1.625473\n",
      "Control:P5      1.605164 1.744352\n",
      "Periwound:Adult 1.896755 2.026385\n",
      "Periwound:E16.5 1.308197 1.308818\n",
      "Periwound:E17.5 1.756574 1.843024\n",
      "Periwound:E18.5 1.182989 1.211751\n",
      "Periwound:P5    1.681629 1.742986\n",
      "Wound:Adult     3.204944 3.272622\n",
      "Wound:E16.5     1.513175 1.604488\n",
      "Wound:E17.5     1.858575 1.884202\n",
      "Wound:E18.5     1.276687 1.399494\n",
      "Wound:P5        1.334561 1.396256\n",
      "\n",
      "$comparison\n",
      "NULL\n",
      "\n",
      "$groups\n",
      "                      SR groups\n",
      "Wound:Adult     3.041174      a\n",
      "Periwound:Adult 1.981606      b\n",
      "Wound:E17.5     1.795464     bc\n",
      "Control:Adult   1.784784     bc\n",
      "Periwound:E17.5 1.775916     bc\n",
      "Control:P5      1.675827    bcd\n",
      "Periwound:P5    1.668919    bcd\n",
      "Control:P0      1.550032    bcd\n",
      "Wound:E16.5     1.549037    bcd\n",
      "Wound:P5        1.355500     cd\n",
      "Wound:E18.5     1.354118     cd\n",
      "Periwound:E16.5 1.280377      d\n",
      "Periwound:E18.5 1.187683      d\n",
      "\n",
      "attr(,\"class\")\n",
      "[1] \"group\"\n"
     ]
    }
   ],
   "source": [
    "result_O = HSD.test(fit,c(\"Wound\", \"Group\"), group = T)\n",
    "print(result_O)"
   ]
  },
  {
   "cell_type": "code",
   "execution_count": null,
   "id": "54958fcd-f35c-416d-befc-21cd3611751e",
   "metadata": {},
   "outputs": [],
   "source": []
  }
 ],
 "metadata": {
  "kernelspec": {
   "display_name": "R",
   "language": "R",
   "name": "ir"
  },
  "language_info": {
   "codemirror_mode": "r",
   "file_extension": ".r",
   "mimetype": "text/x-r-source",
   "name": "R",
   "pygments_lexer": "r",
   "version": "4.2.2"
  }
 },
 "nbformat": 4,
 "nbformat_minor": 5
}
