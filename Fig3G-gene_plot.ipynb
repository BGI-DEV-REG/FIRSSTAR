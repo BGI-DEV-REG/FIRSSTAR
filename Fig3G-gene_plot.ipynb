{
 "cells": [
  {
   "cell_type": "code",
   "execution_count": null,
   "id": "808c8168-070d-4408-91ed-a811b3ed403b",
   "metadata": {
    "tags": []
   },
   "outputs": [],
   "source": [
    "gene=\"Cxcl1\""
   ]
  },
  {
   "cell_type": "code",
   "execution_count": null,
   "id": "b747bf87-17b3-4222-8091-7f0894501bd0",
   "metadata": {
    "tags": []
   },
   "outputs": [],
   "source": [
    "library(Seurat)\n",
    "library(ggplot2)\n",
    "library(tidyverse)"
   ]
  },
  {
   "cell_type": "markdown",
   "id": "a5635fd8-0798-4bc9-95ad-11959961cdcd",
   "metadata": {},
   "source": [
    "### 读入发育数据"
   ]
  },
  {
   "cell_type": "code",
   "execution_count": null,
   "id": "5fa36d6a-a4a8-463c-a0ef-f45875d76736",
   "metadata": {
    "tags": []
   },
   "outputs": [],
   "source": [
    "data1 = readRDS(\"/data/input/Files/fasica_240722/dev_fascia1_mat_nor_240722.rds\")\n",
    "data2 = readRDS(\"/data/input/Files/fasica_240722/dev_fascia2_mat_nor_240722.rds\")"
   ]
  },
  {
   "cell_type": "code",
   "execution_count": null,
   "id": "aceee73c-3c8e-4c36-bd51-fd8bed959c76",
   "metadata": {
    "tags": []
   },
   "outputs": [],
   "source": [
    "df1 = as.data.frame(data1[gene,])\n",
    "colnames(df1)=c(\"Exp\")\n",
    "df1$time = as.numeric(rownames(df1))"
   ]
  },
  {
   "cell_type": "code",
   "execution_count": null,
   "id": "a9b6ef5f-3f8d-4b9c-a921-41e2696800bc",
   "metadata": {
    "tags": []
   },
   "outputs": [],
   "source": [
    "df2 = as.data.frame(data2[gene,])\n",
    "colnames(df2)=c(\"Exp\")\n",
    "df2$time = as.numeric(rownames(df2))"
   ]
  },
  {
   "cell_type": "code",
   "execution_count": null,
   "id": "234da88c-e8c4-4985-9786-225c0cd02df9",
   "metadata": {
    "tags": []
   },
   "outputs": [],
   "source": [
    "df1$group = \"fascia1\"\n",
    "df2$group = \"fascia2\"\n",
    "df_Dev = rbind(df1,df2)"
   ]
  },
  {
   "cell_type": "code",
   "execution_count": null,
   "id": "64110387-7e3d-4f85-9b76-60652fe8e7dc",
   "metadata": {
    "tags": []
   },
   "outputs": [],
   "source": [
    "head(df_Dev)"
   ]
  },
  {
   "cell_type": "markdown",
   "id": "77a183ae-faad-4e84-892f-4408f4639e96",
   "metadata": {},
   "source": [
    "### 读入损伤数据"
   ]
  },
  {
   "cell_type": "code",
   "execution_count": null,
   "id": "a882c28e-b43d-483e-ae08-2bd744937b47",
   "metadata": {
    "tags": []
   },
   "outputs": [],
   "source": [
    "path = '/data/work/Figure3/gene_plot_data/'\n",
    "rds = list.files(path=path,pattern = \"\\\\.rds$\",full.names=TRUE)\n",
    "datas = lapply(rds,readRDS)\n",
    "names(datas) = sub(\"_myo_trac_mat.rds\",\"\",basename(rds))"
   ]
  },
  {
   "cell_type": "code",
   "execution_count": null,
   "id": "2d954455-5709-4594-8719-6e7cb87e711a",
   "metadata": {
    "tags": []
   },
   "outputs": [],
   "source": [
    "dfs = list()\n",
    "for (age in names(datas)){\n",
    "print(age)\n",
    "data = datas[[age]]\n",
    "df = as.data.frame(data[gene,])\n",
    "colnames(df)=c(\"Exp\")\n",
    "df$time = as.numeric(rownames(df))\n",
    "df$group = age\n",
    "dfs[[age]]=df\n",
    "}"
   ]
  },
  {
   "cell_type": "code",
   "execution_count": null,
   "id": "afd68520-faeb-4c81-8df3-34f8466997ec",
   "metadata": {
    "tags": []
   },
   "outputs": [],
   "source": [
    "df_Inj = do.call(rbind,dfs)\n",
    "head(df_Inj)"
   ]
  },
  {
   "cell_type": "markdown",
   "id": "5a7a1b20-98ac-4a4b-9781-41dbf9ecbcba",
   "metadata": {},
   "source": [
    "### 可视化"
   ]
  },
  {
   "cell_type": "code",
   "execution_count": null,
   "id": "a8725317-1782-4faf-939a-6ae65e3601d8",
   "metadata": {
    "tags": []
   },
   "outputs": [],
   "source": [
    "df_Dev$time = -df_Dev$time"
   ]
  },
  {
   "cell_type": "code",
   "execution_count": null,
   "id": "d186f93c-bb5c-4e35-9a33-e028188c349a",
   "metadata": {
    "tags": []
   },
   "outputs": [],
   "source": [
    "head(df_Dev)"
   ]
  },
  {
   "cell_type": "code",
   "execution_count": null,
   "id": "445c52da-d59e-48fb-ba13-5848824ec48f",
   "metadata": {
    "tags": []
   },
   "outputs": [],
   "source": [
    "df = rbind(df_Dev,df_Inj)"
   ]
  },
  {
   "cell_type": "code",
   "execution_count": null,
   "id": "692904ee-973c-4bf0-885b-3f97fa367022",
   "metadata": {
    "tags": []
   },
   "outputs": [],
   "source": [
    "color = c(\"#FFFF00\", \"#1CE6FF\",\"#108C39\" ,\"#e61c5d\" ,\"#D94AE3\" ,\n",
    "              \"#FF8B17\", \"#4463C1\")"
   ]
  },
  {
   "cell_type": "code",
   "execution_count": null,
   "id": "26e65082-6eae-4f2c-aa7e-f3edddb8ed44",
   "metadata": {
    "tags": []
   },
   "outputs": [],
   "source": [
    "names(color) = c(\"fascia1\",\"fascia2\",\"Adult\",\"P5\",\"E18.5\",\"E17.5\",\"E16.5\")"
   ]
  },
  {
   "cell_type": "code",
   "execution_count": null,
   "id": "297b91b6-9abd-41d4-8583-2e46f7b032d5",
   "metadata": {
    "tags": []
   },
   "outputs": [],
   "source": [
    "df$group = factor(df$group,levels=c(\"fascia1\",\"fascia2\",\"Adult\",\"P5\",\"E18.5\",\"E17.5\",\"E16.5\"))\n"
   ]
  },
  {
   "cell_type": "code",
   "execution_count": null,
   "id": "ba4e1cd1-23ff-4556-9924-4eaad37e305f",
   "metadata": {
    "tags": []
   },
   "outputs": [],
   "source": [
    "y_max <- max(quantile(df_Dev$Exp, 0.98),quantile(df_Inj$Exp, 0.98))"
   ]
  },
  {
   "cell_type": "code",
   "execution_count": null,
   "id": "29d0afc5-8de2-4c44-959d-6b8fcf1635fa",
   "metadata": {
    "tags": []
   },
   "outputs": [],
   "source": [
    "options(repr.plot.width=12,repr.plot.height=6)\n",
    "p1 <- ggplot(data = df, aes(x = time, y = Exp, color = group)) +\n",
    "    geom_point(alpha = 0.8,size=0.5) +\n",
    "  geom_smooth(data = df, aes(x = time, y = Exp, color = group),method = \"loess\", se = FALSE,size=1.5)+\n",
    "    theme_bw() +\n",
    "    scale_y_continuous(limits = c(0, y_max), oob = scales::oob_squish) +  # 设置 Y 轴范围\n",
    "    labs(title = gene) +\n",
    "  theme(  \n",
    "    axis.text.x = element_blank(),  # 隐藏 x 轴坐标文本\n",
    "    axis.ticks.x = element_blank(),\n",
    "    plot.title = element_text(hjust = 0.5, size = 20, face = \"bold\", color = \"white\"), \n",
    "    axis.text.y = element_text(size = 12, color = \"white\"), \n",
    "    plot.background = element_rect(fill = \"black\"), \n",
    "    panel.background = element_rect(fill = \"black\"), \n",
    "    panel.grid.major = element_blank(), \n",
    "    panel.grid.minor = element_blank(),\n",
    "    axis.line = element_line(color = \"white\"),  # 设置坐标轴颜色为白色\n",
    "    axis.ticks = element_line(color = \"white\")\n",
    "  )+\n",
    "  scale_color_manual(values=color)+\n",
    "  scale_x_continuous(sec.axis = dup_axis()) +  # 添加辅助 x 轴\n",
    "  geom_vline(xintercept = 0, color = \"white\", size = 0.5)\n",
    "p1"
   ]
  },
  {
   "cell_type": "code",
   "execution_count": null,
   "id": "6d3de7e0-6d9c-4e90-9c8c-89c39e4bf767",
   "metadata": {
    "tags": []
   },
   "outputs": [],
   "source": [
    "ggsave(plot=p1,paste0(\"/data/work/Figure3/\",gene,\"_Exp_plot.pdf\"),w=12,h=6)"
   ]
  },
  {
   "cell_type": "code",
   "execution_count": null,
   "id": "e228dc62-fccf-4bf3-ab09-f6cb6e61619c",
   "metadata": {},
   "outputs": [],
   "source": []
  }
 ],
 "metadata": {
  "kernelspec": {
   "display_name": "R",
   "language": "R",
   "name": "ir"
  },
  "language_info": {
   "codemirror_mode": "r",
   "file_extension": ".r",
   "mimetype": "text/x-r-source",
   "name": "R",
   "pygments_lexer": "r",
   "version": "4.2.2"
  }
 },
 "nbformat": 4,
 "nbformat_minor": 5
}
