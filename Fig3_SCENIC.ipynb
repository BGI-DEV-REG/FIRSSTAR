{
 "cells": [
  {
   "cell_type": "markdown",
   "id": "1e7113db-363c-4847-945d-959556bb114a",
   "metadata": {},
   "source": [
    "**SCENIC分析**\n",
    "\n",
    "成年 胚胎统一输入，并做pseudobulk进行均衡。"
   ]
  },
  {
   "cell_type": "code",
   "execution_count": 1,
   "id": "e77afdb2-0d83-42ee-9969-7ba10512fa01",
   "metadata": {
    "execution": {
     "iopub.execute_input": "2024-08-07T02:14:09.733585Z",
     "iopub.status.busy": "2024-08-07T02:14:09.622239Z",
     "iopub.status.idle": "2024-08-07T02:14:38.204832Z",
     "shell.execute_reply": "2024-08-07T02:14:38.085560Z"
    },
    "tags": []
   },
   "outputs": [
    {
     "name": "stderr",
     "output_type": "stream",
     "text": [
      "Attaching SeuratObject\n",
      "\n",
      "Warning message in system(\"timedatectl\", intern = TRUE):\n",
      "“running command 'timedatectl' had status 1”\n",
      "── \u001b[1mAttaching core tidyverse packages\u001b[22m ──────────────────────── tidyverse 2.0.0 ──\n",
      "\u001b[32m✔\u001b[39m \u001b[34mdplyr    \u001b[39m 1.1.4     \u001b[32m✔\u001b[39m \u001b[34mreadr    \u001b[39m 2.1.5\n",
      "\u001b[32m✔\u001b[39m \u001b[34mforcats  \u001b[39m 1.0.0     \u001b[32m✔\u001b[39m \u001b[34mstringr  \u001b[39m 1.5.1\n",
      "\u001b[32m✔\u001b[39m \u001b[34mggplot2  \u001b[39m 3.5.1     \u001b[32m✔\u001b[39m \u001b[34mtibble   \u001b[39m 3.2.1\n",
      "\u001b[32m✔\u001b[39m \u001b[34mlubridate\u001b[39m 1.9.2     \u001b[32m✔\u001b[39m \u001b[34mtidyr    \u001b[39m 1.3.1\n",
      "\u001b[32m✔\u001b[39m \u001b[34mpurrr    \u001b[39m 1.0.2     \n",
      "── \u001b[1mConflicts\u001b[22m ────────────────────────────────────────── tidyverse_conflicts() ──\n",
      "\u001b[31m✖\u001b[39m \u001b[34mdplyr\u001b[39m::\u001b[32mfilter()\u001b[39m masks \u001b[34mstats\u001b[39m::filter()\n",
      "\u001b[31m✖\u001b[39m \u001b[34mdplyr\u001b[39m::\u001b[32mlag()\u001b[39m    masks \u001b[34mstats\u001b[39m::lag()\n",
      "\u001b[36mℹ\u001b[39m Use the conflicted package (\u001b[3m\u001b[34m<http://conflicted.r-lib.org/>\u001b[39m\u001b[23m) to force all conflicts to become errors\n"
     ]
    }
   ],
   "source": [
    "library(Seurat)\n",
    "library(tidyverse)"
   ]
  },
  {
   "cell_type": "code",
   "execution_count": 2,
   "id": "024c0d62-c759-49bf-9954-557b6e77f431",
   "metadata": {
    "execution": {
     "iopub.execute_input": "2024-08-07T02:14:39.162293Z",
     "iopub.status.busy": "2024-08-07T02:14:38.441018Z",
     "iopub.status.idle": "2024-08-07T02:15:48.081739Z",
     "shell.execute_reply": "2024-08-07T02:15:48.058292Z"
    },
    "tags": []
   },
   "outputs": [],
   "source": [
    "obj_adult = readRDS(\"/data/input/Files/FB_data/scRNA_FB_20240703/Adult_FB_fascia_myo_trajectory.rds\")\n",
    "meta_adult = read.csv(\"/data/input/Files/FB_data/scRNA_FB_20240703/adult_myo_monocle3_meta.csv.gz\", row.names=1)\n",
    "obj_adult@meta.data[,colnames(meta_adult)] = meta_adult\n",
    "\n",
    "x = c()\n",
    "tb = table(obj_adult$celltype_240516)\n",
    "n = 0\n",
    "nbin = 100\n",
    "for (i in c(\"FB_fascia_1_Adult\", \"FB_inflammatory_Adult\", \"FB_oxidative_stress_Adult\", \"FB_myo_Adult\")){\n",
    "    x = c(x, ntile(1:tb[[i]], nbin) + nbin * n)\n",
    "    n = n + 1\n",
    "    }\n",
    "obj_adult$group = x[rank(obj_adult$pseudotime)]"
   ]
  },
  {
   "cell_type": "code",
   "execution_count": 3,
   "id": "3246f3c7-6bdb-4229-8a81-649990a3613a",
   "metadata": {
    "execution": {
     "iopub.execute_input": "2024-08-07T02:15:48.120847Z",
     "iopub.status.busy": "2024-08-07T02:15:48.089921Z",
     "iopub.status.idle": "2024-08-07T02:17:25.244637Z",
     "shell.execute_reply": "2024-08-07T02:17:25.242490Z"
    },
    "tags": []
   },
   "outputs": [],
   "source": [
    "obj_ep = readRDS(\"/data/input/Files/FB_data/scRNA_FB_20240703/EP_FB_fascia_myo_trajectory.rds\")\n",
    "meta_ep = read.csv(\"/data/input/Files/FB_data/scRNA_FB_20240703/ep_myo_monocle3_meta.csv.gz\", row.names=1)\n",
    "obj_ep@meta.data[,colnames(meta_ep)] = meta_ep\n",
    "\n",
    "x = c()\n",
    "tb = table(obj_ep$celltype_0519)\n",
    "n = 0\n",
    "nbin = 100\n",
    "for (i in c(\"FB_fascia_EP\", \"FB_inflammatory_EP\", \"FB_oxidative_stress_EP\")){\n",
    "    x = c(x, ntile(1:tb[[i]], nbin) + nbin * n)\n",
    "    n = n + 1\n",
    "    }\n",
    "obj_ep$group = x[rank(obj_ep$pseudotime)]"
   ]
  },
  {
   "cell_type": "code",
   "execution_count": 4,
   "id": "2b4a64d4-c09a-433f-991f-81fc9c5267ee",
   "metadata": {
    "execution": {
     "iopub.execute_input": "2024-08-07T02:17:25.252934Z",
     "iopub.status.busy": "2024-08-07T02:17:25.249201Z",
     "iopub.status.idle": "2024-08-07T02:17:25.437808Z",
     "shell.execute_reply": "2024-08-07T02:17:25.436296Z"
    },
    "tags": []
   },
   "outputs": [],
   "source": [
    "df = read.csv(\"/data/input/Files/FB_data/scRNA_FB_20240703/Myo_trac_EP_All_240526_trajectory_genes_MI_05.csv\")\n",
    "genes = df$gene_short_name\n",
    "df = read.csv(\"/data/input/Files/FB_data/scRNA_FB_20240703/Myo_trac_Adult_All_240526_trajectory_genes_MI_05.csv\")\n",
    "genes = c(genes,df$gene_short_name)\n",
    "\n",
    "genes = unique(genes)"
   ]
  },
  {
   "cell_type": "code",
   "execution_count": 5,
   "id": "9217c62e-a7b1-41cf-8989-fe0e417bb23d",
   "metadata": {
    "execution": {
     "iopub.execute_input": "2024-08-07T02:17:25.440736Z",
     "iopub.status.busy": "2024-08-07T02:17:25.439748Z",
     "iopub.status.idle": "2024-08-07T02:17:40.748738Z",
     "shell.execute_reply": "2024-08-07T02:17:40.746455Z"
    },
    "tags": []
   },
   "outputs": [],
   "source": [
    "mat_adult = AverageExpression(obj_adult, group.by = \"group\", features=genes)$RNA\n",
    "mat_ep = AverageExpression(obj_ep, group.by = \"group\", features=genes)$RNA\n",
    "mat = cbind(mat_adult, mat_ep)\n",
    "\n",
    "\n",
    "dir.create(\"SCENIC_240807\")\n",
    "write.csv(t(mat),file = gzfile('SCENIC_240807/myo_trace_genes_count.csv.gz'),quote=F)"
   ]
  },
  {
   "cell_type": "markdown",
   "id": "3d5a0777-4c72-4986-bcdf-bbc864780520",
   "metadata": {},
   "source": [
    "**python** \n",
    "\n",
    "构建loom"
   ]
  },
  {
   "cell_type": "code",
   "execution_count": 1,
   "id": "85545b4c-f6b2-4acf-a275-7a341ddc256f",
   "metadata": {
    "execution": {
     "iopub.execute_input": "2024-08-07T02:18:11.764692Z",
     "iopub.status.busy": "2024-08-07T02:18:11.763904Z",
     "iopub.status.idle": "2024-08-07T02:18:17.091203Z",
     "shell.execute_reply": "2024-08-07T02:18:17.090085Z",
     "shell.execute_reply.started": "2024-08-07T02:18:11.764539Z"
    },
    "tags": []
   },
   "outputs": [
    {
     "name": "stderr",
     "output_type": "stream",
     "text": [
      "Matplotlib created a temporary config/cache directory at /tmp/matplotlib-7q7_bm0r because the default path (/home/stereonote/.config/matplotlib) is not a writable directory; it is highly recommended to set the MPLCONFIGDIR environment variable to a writable directory, in particular to speed up the import of Matplotlib and to better support multiprocessing.\n"
     ]
    }
   ],
   "source": [
    "import loompy as lp\n",
    "import numpy as np\n",
    "import scanpy as sc"
   ]
  },
  {
   "cell_type": "code",
   "execution_count": 2,
   "id": "65be4c0a-0c8e-48b7-8eca-54904b2dcde6",
   "metadata": {
    "execution": {
     "iopub.execute_input": "2024-08-07T02:18:17.093144Z",
     "iopub.status.busy": "2024-08-07T02:18:17.092534Z",
     "iopub.status.idle": "2024-08-07T02:18:17.842574Z",
     "shell.execute_reply": "2024-08-07T02:18:17.841503Z",
     "shell.execute_reply.started": "2024-08-07T02:18:17.093120Z"
    }
   },
   "outputs": [],
   "source": [
    "output=\"SCENIC_240807/All.loom\"\n",
    "input=\"SCENIC_240807/myo_trace_genes_count.csv.gz\"\n",
    "\n",
    "x=sc.read_csv(input)\n",
    "row_attrs = {\"Gene\": np.array(x.var_names),}\n",
    "col_attrs = {\"CellID\": np.array(x.obs_names)}\n",
    "lp.create(output, x.X.transpose(), row_attrs, col_attrs)\n"
   ]
  },
  {
   "cell_type": "markdown",
   "id": "acff387a-915b-43ca-9894-8621e71a5c5f",
   "metadata": {},
   "source": [
    "**pyscenic**"
   ]
  },
  {
   "cell_type": "code",
   "execution_count": 3,
   "id": "08ea0cc9-eed2-4f5d-821e-c3238cbbfc6d",
   "metadata": {
    "execution": {
     "iopub.execute_input": "2024-08-07T02:18:27.147386Z",
     "iopub.status.busy": "2024-08-07T02:18:27.146903Z",
     "iopub.status.idle": "2024-08-07T02:25:51.339559Z",
     "shell.execute_reply": "2024-08-07T02:25:51.338577Z",
     "shell.execute_reply.started": "2024-08-07T02:18:27.147357Z"
    },
    "tags": []
   },
   "outputs": [
    {
     "name": "stderr",
     "output_type": "stream",
     "text": [
      "Numba: Attempted to fork from a non-main thread, the TBB library may be in an invalid state in the child process.\n",
      "\n",
      "2024-08-07 10:18:33,832 - pyscenic.cli.pyscenic - INFO - Loading expression matrix.\n",
      "\n",
      "2024-08-07 10:18:33,978 - pyscenic.cli.pyscenic - INFO - Inferring regulatory networks.\n",
      "Numba: Attempted to fork from a non-main thread, the TBB library may be in an invalid state in the child process.\n",
      "Numba: Attempted to fork from a non-main thread, the TBB library may be in an invalid state in the child process.\n",
      "Numba: Attempted to fork from a non-main thread, the TBB library may be in an invalid state in the child process.\n",
      "Numba: Attempted to fork from a non-main thread, the TBB library may be in an invalid state in the child process.\n",
      "Numba: Attempted to fork from a non-main thread, the TBB library may be in an invalid state in the child process.\n",
      "Numba: Attempted to fork from a non-main thread, the TBB library may be in an invalid state in the child process.\n",
      "Numba: Attempted to fork from a non-main thread, the TBB library may be in an invalid state in the child process.\n",
      "Numba: Attempted to fork from a non-main thread, the TBB library may be in an invalid state in the child process.\n",
      "Numba: Attempted to fork from a non-main thread, the TBB library may be in an invalid state in the child process.\n",
      "Numba: Attempted to fork from a non-main thread, the TBB library may be in an invalid state in the child process.\n",
      "Numba: Attempted to fork from a non-main thread, the TBB library may be in an invalid state in the child process.\n",
      "Numba: Attempted to fork from a non-main thread, the TBB library may be in an invalid state in the child process.\n",
      "Numba: Attempted to fork from a non-main thread, the TBB library may be in an invalid state in the child process.\n",
      "Numba: Attempted to fork from a non-main thread, the TBB library may be in an invalid state in the child process.\n",
      "Numba: Attempted to fork from a non-main thread, the TBB library may be in an invalid state in the child process.\n",
      "Numba: Attempted to fork from a non-main thread, the TBB library may be in an invalid state in the child process.\n"
     ]
    },
    {
     "name": "stdout",
     "output_type": "stream",
     "text": [
      "preparing dask client\n",
      "parsing input\n",
      "creating dask graph\n",
      "15 partitions\n",
      "computing dask graph\n",
      "not shutting down client, client was created externally\n",
      "finished\n"
     ]
    },
    {
     "name": "stderr",
     "output_type": "stream",
     "text": [
      "\n",
      "2024-08-07 10:25:48,689 - pyscenic.cli.pyscenic - INFO - Writing results to file.\n"
     ]
    }
   ],
   "source": [
    "%%bash\n",
    "#default value\n",
    "input_loom=/data/work/fig3_TF/SCENIC_240807/All.loom\n",
    "n_workers=15\n",
    "output_path=\"/data/work/fig3_TF/SCENIC_240807/\"\n",
    "\n",
    "database='/data/input/Files/SCENIC/00.databases/01.mouse'\n",
    "tfs=${database}/allTFs_mm.txt\n",
    "feather=${database}/mm10_10kbp_up_10kbp_down_full_tx_v10_clust.genes_vs_motifs.rankings.feather\n",
    "tbl=${database}/motifs-v10nr_clust-nr.mgi-m0.001-o0.0.tbl\n",
    "pyscenic=pyscenic\n",
    "\n",
    "# grn\n",
    "$pyscenic grn \\\n",
    "--num_workers $n_workers \\\n",
    "--output ${output_path}/grn.tsv \\\n",
    "--method grnboost2 \\\n",
    "$input_loom  $tfs"
   ]
  },
  {
   "cell_type": "code",
   "execution_count": null,
   "id": "7f3776a1-696b-4b0b-8d9b-e1771082d0df",
   "metadata": {
    "execution": {
     "iopub.execute_input": "2024-08-07T02:27:42.981353Z",
     "iopub.status.busy": "2024-08-07T02:27:42.980933Z"
    }
   },
   "outputs": [
    {
     "name": "stderr",
     "output_type": "stream",
     "text": [
      "Numba: Attempted to fork from a non-main thread, the TBB library may be in an invalid state in the child process.\n",
      "\n",
      "2024-08-07 10:28:08,304 - pyscenic.cli.pyscenic - INFO - Creating modules.\n",
      "\n",
      "2024-08-07 10:28:08,967 - pyscenic.cli.pyscenic - INFO - Loading expression matrix.\n",
      "\n",
      "2024-08-07 10:28:09,333 - pyscenic.utils - INFO - Calculating Pearson correlations.\n",
      "\n",
      "2024-08-07 10:28:09,457 - pyscenic.utils - WARNING - Note on correlation calculation: the default behaviour for calculating the correlations has changed after pySCENIC verion 0.9.16. Previously, the default was to calculate the correlation between a TF and target gene using only cells with non-zero expression values (mask_dropouts=True). The current default is now to use all cells to match the behavior of the R verision of SCENIC. The original settings can be retained by setting 'rho_mask_dropouts=True' in the modules_from_adjacencies function, or '--mask_dropouts' from the CLI.\n",
      "\tDropout masking is currently set to [True].\n",
      "\n",
      "2024-08-07 10:28:20,469 - pyscenic.utils - INFO - Creating modules.\n",
      "\n",
      "2024-08-07 10:29:14,791 - pyscenic.cli.pyscenic - INFO - Loading databases.\n",
      "\n",
      "2024-08-07 10:29:15,270 - pyscenic.cli.pyscenic - INFO - Calculating regulons.\n",
      "\n",
      "2024-08-07 10:32:30,394 - pyscenic.transform - WARNING - Less than 80% of the genes in Regulon for Bcl3 could be mapped to mm10_10kbp_up_10kbp_down_full_tx_v10_clust.genes_vs_motifs.rankings. Skipping this module.\n",
      "\n",
      "2024-08-07 10:33:05,216 - pyscenic.transform - WARNING - Less than 80% of the genes in Mitf could be mapped to mm10_10kbp_up_10kbp_down_full_tx_v10_clust.genes_vs_motifs.rankings. Skipping this module.\n",
      "\n",
      "2024-08-07 10:33:08,211 - pyscenic.transform - WARNING - Less than 80% of the genes in Regulon for Cycs could be mapped to mm10_10kbp_up_10kbp_down_full_tx_v10_clust.genes_vs_motifs.rankings. Skipping this module.\n",
      "\n",
      "2024-08-07 10:33:41,234 - pyscenic.transform - WARNING - Less than 80% of the genes in Regulon for Gtf2b could be mapped to mm10_10kbp_up_10kbp_down_full_tx_v10_clust.genes_vs_motifs.rankings. Skipping this module.\n",
      "\n",
      "2024-08-07 10:33:50,370 - pyscenic.transform - WARNING - Less than 80% of the genes in Sp110 could be mapped to mm10_10kbp_up_10kbp_down_full_tx_v10_clust.genes_vs_motifs.rankings. Skipping this module.\n",
      "\n",
      "2024-08-07 10:36:36,470 - pyscenic.transform - WARNING - Less than 80% of the genes in Ewsr1 could be mapped to mm10_10kbp_up_10kbp_down_full_tx_v10_clust.genes_vs_motifs.rankings. Skipping this module.\n",
      "\n",
      "2024-08-07 10:38:26,365 - pyscenic.transform - WARNING - Less than 80% of the genes in Gtf2b could be mapped to mm10_10kbp_up_10kbp_down_full_tx_v10_clust.genes_vs_motifs.rankings. Skipping this module.\n",
      "\n",
      "2024-08-07 10:43:36,285 - pyscenic.transform - WARNING - Less than 80% of the genes in Myc could be mapped to mm10_10kbp_up_10kbp_down_full_tx_v10_clust.genes_vs_motifs.rankings. Skipping this module.\n",
      "\n",
      "2024-08-07 10:46:24,743 - pyscenic.transform - WARNING - Less than 80% of the genes in Sp100 could be mapped to mm10_10kbp_up_10kbp_down_full_tx_v10_clust.genes_vs_motifs.rankings. Skipping this module.\n",
      "\n",
      "2024-08-07 10:46:25,208 - pyscenic.transform - WARNING - Less than 80% of the genes in Sp110 could be mapped to mm10_10kbp_up_10kbp_down_full_tx_v10_clust.genes_vs_motifs.rankings. Skipping this module.\n",
      "\n",
      "2024-08-07 10:46:49,365 - pyscenic.transform - WARNING - Less than 80% of the genes in Zeb2 could be mapped to mm10_10kbp_up_10kbp_down_full_tx_v10_clust.genes_vs_motifs.rankings. Skipping this module.\n",
      "\n",
      "2024-08-07 10:48:16,811 - pyscenic.transform - WARNING - Less than 80% of the genes in Regulon for Sp100 could be mapped to mm10_10kbp_up_10kbp_down_full_tx_v10_clust.genes_vs_motifs.rankings. Skipping this module.\n",
      "\n",
      "2024-08-07 10:48:19,895 - pyscenic.transform - WARNING - Less than 80% of the genes in Regulon for Sp110 could be mapped to mm10_10kbp_up_10kbp_down_full_tx_v10_clust.genes_vs_motifs.rankings. Skipping this module.\n",
      "\n",
      "2024-08-07 10:52:42,092 - pyscenic.transform - WARNING - Less than 80% of the genes in Regulon for Bcl3 could be mapped to mm10_10kbp_up_10kbp_down_full_tx_v10_clust.genes_vs_motifs.rankings. Skipping this module.\n",
      "\n",
      "2024-08-07 10:53:52,980 - pyscenic.transform - WARNING - Less than 80% of the genes in Regulon for Gtf2b could be mapped to mm10_10kbp_up_10kbp_down_full_tx_v10_clust.genes_vs_motifs.rankings. Skipping this module.\n",
      "\n",
      "2024-08-07 10:53:53,543 - pyscenic.transform - WARNING - Less than 80% of the genes in Regulon for Hcls1 could be mapped to mm10_10kbp_up_10kbp_down_full_tx_v10_clust.genes_vs_motifs.rankings. Skipping this module.\n",
      "\n",
      "2024-08-07 11:00:46,033 - pyscenic.transform - WARNING - Less than 80% of the genes in Regulon for Sp100 could be mapped to mm10_10kbp_up_10kbp_down_full_tx_v10_clust.genes_vs_motifs.rankings. Skipping this module.\n",
      "\n",
      "2024-08-07 11:00:46,518 - pyscenic.transform - WARNING - Less than 80% of the genes in Regulon for Sp110 could be mapped to mm10_10kbp_up_10kbp_down_full_tx_v10_clust.genes_vs_motifs.rankings. Skipping this module.\n"
     ]
    }
   ],
   "source": [
    "%%bash\n",
    "#default value\n",
    "input_loom=/data/work/fig3_TF/SCENIC_240807/All.loom\n",
    "n_workers=30\n",
    "output_path=\"/data/work/fig3_TF/SCENIC_240807/\"\n",
    "\n",
    "database='/data/input/Files/SCENIC/00.databases/01.mouse'\n",
    "tfs=${database}/allTFs_mm.txt\n",
    "feather=${database}/mm10_10kbp_up_10kbp_down_full_tx_v10_clust.genes_vs_motifs.rankings.feather\n",
    "tbl=${database}/motifs-v10nr_clust-nr.mgi-m0.001-o0.0.tbl\n",
    "pyscenic=pyscenic\n",
    "\n",
    "# cistarget\n",
    "$pyscenic ctx \\\n",
    "${output_path}/grn.tsv $feather \\\n",
    "--annotations_fname $tbl \\\n",
    "--expression_mtx_fname $input_loom \\\n",
    "--mode \"dask_multiprocessing\" \\\n",
    "--output ${output_path}/ctx.csv \\\n",
    "--num_workers $n_workers   \\\n",
    "--mask_dropouts"
   ]
  },
  {
   "cell_type": "code",
   "execution_count": null,
   "id": "42ba2ef8-08f1-428a-a9ce-3de0ae9793bd",
   "metadata": {},
   "outputs": [],
   "source": [
    "# AUCell\n",
    "#default value\n",
    "input_loom=/data/work/fig3_TF/SCENIC_240807/All.loom\n",
    "n_workers=15\n",
    "output_path=\"/data/work/fig3_TF/SCENIC_240807/\"\n",
    "\n",
    "database='/data/input/Files/SCENIC/00.databases/01.mouse'\n",
    "tfs=${database}/allTFs_mm.txt\n",
    "feather=${database}/mm10_10kbp_up_10kbp_down_full_tx_v10_clust.genes_vs_motifs.rankings.feather\n",
    "tbl=${database}/motifs-v10nr_clust-nr.mgi-m0.001-o0.0.tbl\n",
    "pyscenic=pyscenic\n",
    "\n",
    "$pyscenic aucell \\\n",
    "$input_loom \\\n",
    "${output_path}/ctx.csv \\\n",
    "--output ${output_path}/aucell.loom \\\n",
    "--num_workers $n_workers\n"
   ]
  },
  {
   "cell_type": "code",
   "execution_count": null,
   "id": "224c6e56-55ea-42de-8301-55b3ca168d82",
   "metadata": {},
   "outputs": [],
   "source": []
  },
  {
   "cell_type": "code",
   "execution_count": null,
   "id": "1d37d075-b045-4876-a3ce-0ecc8aa310a2",
   "metadata": {},
   "outputs": [],
   "source": [
    "input_loom=/data/work/fig3_TF/SCENIC_240806/All.loom\n",
    "n_workers=15\n",
    "output_path=\"/data/work/fig3_TF/SCENIC_240806/\"\n",
    "\n",
    "database='/data/input/Files/SCENIC/00.databases/01.mouse'\n",
    "tfs=${database}/allTFs_mm.txt\n",
    "feather=${database}/mm10_10kbp_up_10kbp_down_full_tx_v10_clust.genes_vs_motifs.rankings.feather\n",
    "tbl=${database}/motifs-v10nr_clust-nr.mgi-m0.001-o0.0.tbl\n",
    "pyscenic=pyscenic\n",
    "\n",
    "$pyscenic aucell \\\n",
    "$input_loom \\\n",
    "${output_path}/ctx.csv \\\n",
    "--output ${output_path}/aucell_auc0.01.loom \\\n",
    "--num_workers $n_workers \\\n",
    "--auc_threshold 0.01\n",
    "\n",
    "$pyscenic aucell \\\n",
    "$input_loom \\\n",
    "${output_path}/ctx.csv \\\n",
    "--output ${output_path}/aucell_nes2.loom \\\n",
    "--num_workers $n_workers \\\n",
    "--nes_threshold 2.0"
   ]
  }
 ],
 "metadata": {
  "kernelspec": {
   "display_name": "Python 3 (ipykernel)",
   "language": "python",
   "name": "python3"
  },
  "language_info": {
   "codemirror_mode": {
    "name": "ipython",
    "version": 3
   },
   "file_extension": ".py",
   "mimetype": "text/x-python",
   "name": "python",
   "nbconvert_exporter": "python",
   "pygments_lexer": "ipython3",
   "version": "3.8.14"
  }
 },
 "nbformat": 4,
 "nbformat_minor": 5
}
