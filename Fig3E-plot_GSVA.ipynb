{
 "cells": [
  {
   "cell_type": "code",
   "execution_count": null,
   "id": "3344e21e-1809-4fdf-bb4c-dfa394d1f12b",
   "metadata": {
    "tags": []
   },
   "outputs": [],
   "source": [
    "library(GSVA)\n",
    "library(GSEABase)\n",
    "library(limma)\n",
    "library(msigdbr)\n",
    "library(org.Mm.eg.db)\n",
    "library(Seurat)\n",
    "library(ComplexHeatmap)\n",
    "library(tidyverse)"
   ]
  },
  {
   "cell_type": "code",
   "execution_count": null,
   "id": "2823885c-f060-49c3-b7a7-6fca76e75a71",
   "metadata": {
    "tags": []
   },
   "outputs": [],
   "source": [
    "gsva_results = readRDS(\"gsva_results_group.rds\")\n",
    "gsva_adult = readRDS(\"gsva_adult_group.rds\")\n",
    "gsva_ep = readRDS(\"gsva_ep_group.rds\")"
   ]
  },
  {
   "cell_type": "code",
   "execution_count": null,
   "id": "383be28f-2156-41c6-aa3f-59711ebdcae5",
   "metadata": {
    "tags": []
   },
   "outputs": [],
   "source": [
    "pa = cluster::pam(gsva_results, k = 10)\n",
    "cluster = rep(x = c(\"Fascia\", \"Inflammatory\", \"Oxidative_stress\", \"Myo\", \"Fascia\", \"Inflammatory\", \"Oxidative_stress\"), each = 30)"
   ]
  },
  {
   "cell_type": "code",
   "execution_count": null,
   "id": "4bf0d432-3b0f-4959-a797-07262ed70b97",
   "metadata": {
    "tags": []
   },
   "outputs": [],
   "source": [
    "\n",
    "clust_hm <- Heatmap(gsva_results,\n",
    "                    left_annotation = rowAnnotation(foo = anno_block(gp = gpar(fill = 2:11),\n",
    "                                      labels_gp = gpar(col = \"white\", fontsize = 10))),\n",
    "                    top_annotation = columnAnnotation(cluster = cluster,\n",
    "                                      annotation_legend_param = list(title=\"cluster\",labels_gp=gpar(col = \"black\"))),\n",
    "                    row_split = pa$clustering, \n",
    "                    cluster_rows = FALSE,\n",
    "                    cluster_columns = FALSE,\n",
    "                    #right_annotation = ha,\n",
    "                    show_row_names = FALSE,\n",
    "                    show_column_names = FALSE,\n",
    "                    column_order = c(paste0(\"EP_\", 90:1), paste0(\"Adult_\", 1:120)) ,\n",
    "                    # column_split = (c((90:1)+120,1:120)-1) %/% 30,\n",
    "                    # column_gap = unit(0.1, \"mm\")\n",
    "                    name = \"clust_hm\",\n",
    "                    show_row_dend = FALSE,\n",
    "                    #row_order = ordered_index\n",
    "                    )\n",
    "p=draw(clust_hm)\n"
   ]
  },
  {
   "cell_type": "code",
   "execution_count": null,
   "id": "e7da5684-1163-488a-ad78-236560972428",
   "metadata": {
    "tags": []
   },
   "outputs": [],
   "source": [
    "rowlist = row_order(p)\n",
    "custom_order <- c(\"4\", \"5\", \"6\", \"7\", \"9\", \"8\", \"2\", \"3\", \"10\", \"1\")"
   ]
  },
  {
   "cell_type": "code",
   "execution_count": null,
   "id": "4946ab5e-84a8-48f7-b599-649e7a68dc12",
   "metadata": {
    "tags": []
   },
   "outputs": [],
   "source": [
    "pa$clustering = factor(pa$clustering,levels=custom_order)"
   ]
  },
  {
   "cell_type": "code",
   "execution_count": null,
   "id": "54b0296d-5699-4767-af70-0d43788ee7b7",
   "metadata": {
    "tags": []
   },
   "outputs": [],
   "source": [
    "library(viridis)\n",
    "library(RColorBrewer)\n",
    "library(circlize)"
   ]
  },
  {
   "cell_type": "code",
   "execution_count": null,
   "id": "0522c2aa-d408-45b5-ab12-17d862661759",
   "metadata": {
    "tags": []
   },
   "outputs": [],
   "source": [
    "library(ggplot2)"
   ]
  },
  {
   "cell_type": "code",
   "execution_count": null,
   "id": "80507c2a-05b5-4768-a8d7-503006f371f1",
   "metadata": {
    "tags": []
   },
   "outputs": [],
   "source": [
    "white_theme <- function() {\n",
    "  theme(panel.background = element_rect(fill = \"black\"),\n",
    "        plot.background = element_rect(fill = \"black\",color=\"black\"),\n",
    "        legend.background = element_rect(fill = \"black\"),\n",
    "        panel.grid = element_blank(),\n",
    "        axis.line = element_line( linewidth = 0.5,color=\"white\"),\n",
    "        axis.text = element_text(color=\"white\"),\n",
    "        axis.title = element_text(color=\"white\"),\n",
    "        axis.ticks = element_line(color = \"white\"),\n",
    "       )\n",
    "}"
   ]
  },
  {
   "cell_type": "code",
   "execution_count": null,
   "id": "b0fd90a7-23c3-4dd4-94b0-d6d57ea9a9a5",
   "metadata": {
    "tags": []
   },
   "outputs": [],
   "source": [
    "\n",
    "# 创建一个空的数据框来存储所有数据\n",
    "all_data <- data.frame()\n",
    "\n",
    "# 循环处理每个分组\n",
    "for (n in seq(1, 10)) {\n",
    "  gsva_adult1 <- gsva_adult[pa$clustering == n, ]\n",
    "  adult_mat_mean <- colMeans(gsva_adult1)\n",
    "  gsva_ep1 <- gsva_ep[pa$clustering == n, ]\n",
    "  ep_mat_mean <- c(colMeans(gsva_ep1), rep(NA, times = 30))\n",
    "  \n",
    "  # 创建一个数据框并添加分组信息\n",
    "  data <- data.frame(\n",
    "    x = seq(1, 120),\n",
    "    ep = ep_mat_mean,\n",
    "    ad = adult_mat_mean,\n",
    "    group = n\n",
    "  )\n",
    "  \n",
    "  # 将数据框合并到all_data中\n",
    "  all_data <- rbind(all_data, data)\n",
    "}\n",
    "\n",
    "# 使用ggplot2绘制分面图\n",
    "p <- ggplot(all_data, aes(x = x)) +\n",
    "  geom_point(aes(y = ep),size=0.8, color = '#42B236') +\n",
    "  geom_smooth(aes(y = ep), color = '#42B236') +\n",
    "  geom_point(aes(y = ad),size=0.8, color = '#8A67F9') +\n",
    "  geom_smooth(aes(y = ad), color = '#8A67F9') +\n",
    "  facet_wrap(~ group, ncol = 1, scales=\"free_y\") +  # 这里可以调整ncol来控制每行的图数\n",
    "  theme_classic() + white_theme()+\n",
    "  ggtitle(\"Cluster Plots\")\n",
    "\n",
    "# 展示图形\n",
    "options(repr.plot.width = 4, repr.plot.height =25)\n",
    "print(p)\n"
   ]
  },
  {
   "cell_type": "code",
   "execution_count": null,
   "id": "a4cd62f7-e662-452d-baf6-a8bfa8354fb4",
   "metadata": {
    "tags": []
   },
   "outputs": [],
   "source": [
    "ggsave(plot=p,\"GSVA_lineplot_c10.pdf\",w=4,h=25)"
   ]
  },
  {
   "cell_type": "code",
   "execution_count": null,
   "id": "4d30d5f1-b363-4c12-9d05-637038535f25",
   "metadata": {},
   "outputs": [],
   "source": []
  }
 ],
 "metadata": {
  "kernelspec": {
   "display_name": "R",
   "language": "R",
   "name": "ir"
  },
  "language_info": {
   "codemirror_mode": "r",
   "file_extension": ".r",
   "mimetype": "text/x-r-source",
   "name": "R",
   "pygments_lexer": "r",
   "version": "4.2.2"
  }
 },
 "nbformat": 4,
 "nbformat_minor": 5
}
