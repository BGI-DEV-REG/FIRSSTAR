{
 "cells": [
  {
   "cell_type": "code",
   "execution_count": 1,
   "id": "f40c9c2c-be53-4509-95c7-b34fe184a18a",
   "metadata": {
    "execution": {
     "iopub.execute_input": "2024-10-21T08:39:55.564703Z",
     "iopub.status.busy": "2024-10-21T08:39:55.557307Z",
     "iopub.status.idle": "2024-10-21T08:39:56.978336Z",
     "shell.execute_reply": "2024-10-21T08:39:56.975446Z"
    },
    "tags": []
   },
   "outputs": [
    {
     "name": "stderr",
     "output_type": "stream",
     "text": [
      "Warning message in system(\"timedatectl\", intern = TRUE):\n",
      "“running command 'timedatectl' had status 1”\n",
      "── \u001b[1mAttaching core tidyverse packages\u001b[22m ──────────────────────── tidyverse 2.0.0 ──\n",
      "\u001b[32m✔\u001b[39m \u001b[34mdplyr    \u001b[39m 1.1.4     \u001b[32m✔\u001b[39m \u001b[34mreadr    \u001b[39m 2.1.5\n",
      "\u001b[32m✔\u001b[39m \u001b[34mforcats  \u001b[39m 1.0.0     \u001b[32m✔\u001b[39m \u001b[34mstringr  \u001b[39m 1.5.1\n",
      "\u001b[32m✔\u001b[39m \u001b[34mggplot2  \u001b[39m 3.5.1     \u001b[32m✔\u001b[39m \u001b[34mtibble   \u001b[39m 3.2.1\n",
      "\u001b[32m✔\u001b[39m \u001b[34mlubridate\u001b[39m 1.9.2     \u001b[32m✔\u001b[39m \u001b[34mtidyr    \u001b[39m 1.3.1\n",
      "\u001b[32m✔\u001b[39m \u001b[34mpurrr    \u001b[39m 1.0.2     \n",
      "── \u001b[1mConflicts\u001b[22m ────────────────────────────────────────── tidyverse_conflicts() ──\n",
      "\u001b[31m✖\u001b[39m \u001b[34mdplyr\u001b[39m::\u001b[32mfilter()\u001b[39m masks \u001b[34mstats\u001b[39m::filter()\n",
      "\u001b[31m✖\u001b[39m \u001b[34mdplyr\u001b[39m::\u001b[32mlag()\u001b[39m    masks \u001b[34mstats\u001b[39m::lag()\n",
      "\u001b[36mℹ\u001b[39m Use the conflicted package (\u001b[3m\u001b[34m<http://conflicted.r-lib.org/>\u001b[39m\u001b[23m) to force all conflicts to become errors\n"
     ]
    }
   ],
   "source": [
    "library(tidyverse)"
   ]
  },
  {
   "cell_type": "code",
   "execution_count": 2,
   "id": "8a3a7c73-dfea-4456-838c-39d61cefa7eb",
   "metadata": {
    "execution": {
     "iopub.execute_input": "2024-10-21T08:39:57.031051Z",
     "iopub.status.busy": "2024-10-21T08:39:56.982144Z",
     "iopub.status.idle": "2024-10-21T08:39:57.217118Z",
     "shell.execute_reply": "2024-10-21T08:39:57.214553Z"
    },
    "tags": []
   },
   "outputs": [],
   "source": [
    "library(ggplot2)\n",
    "library(ggpubr)"
   ]
  },
  {
   "cell_type": "code",
   "execution_count": 3,
   "id": "9f82c764-5ede-442c-b11d-79f4848ba667",
   "metadata": {
    "execution": {
     "iopub.execute_input": "2024-10-21T08:39:57.222726Z",
     "iopub.status.busy": "2024-10-21T08:39:57.220724Z",
     "iopub.status.idle": "2024-10-21T08:39:57.267644Z",
     "shell.execute_reply": "2024-10-21T08:39:57.265296Z"
    },
    "tags": []
   },
   "outputs": [
    {
     "data": {
      "text/html": [
       "<table class=\"dataframe\">\n",
       "<caption>A data.frame: 6 × 3</caption>\n",
       "<thead>\n",
       "\t<tr><th></th><th scope=col>Group</th><th scope=col>Wound</th><th scope=col>Masson</th></tr>\n",
       "\t<tr><th></th><th scope=col>&lt;fct&gt;</th><th scope=col>&lt;chr&gt;</th><th scope=col>&lt;dbl&gt;</th></tr>\n",
       "</thead>\n",
       "<tbody>\n",
       "\t<tr><th scope=row>1</th><td>E16.5</td><td>Wound</td><td>46.97526</td></tr>\n",
       "\t<tr><th scope=row>2</th><td>E17.5</td><td>Wound</td><td>49.64039</td></tr>\n",
       "\t<tr><th scope=row>3</th><td>E18.5</td><td>Wound</td><td>55.17101</td></tr>\n",
       "\t<tr><th scope=row>4</th><td>P5   </td><td>Wound</td><td>53.79460</td></tr>\n",
       "\t<tr><th scope=row>5</th><td>Adult</td><td>Wound</td><td>67.30878</td></tr>\n",
       "\t<tr><th scope=row>6</th><td>E16.5</td><td>Wound</td><td>46.40390</td></tr>\n",
       "</tbody>\n",
       "</table>\n"
      ],
      "text/latex": [
       "A data.frame: 6 × 3\n",
       "\\begin{tabular}{r|lll}\n",
       "  & Group & Wound & Masson\\\\\n",
       "  & <fct> & <chr> & <dbl>\\\\\n",
       "\\hline\n",
       "\t1 & E16.5 & Wound & 46.97526\\\\\n",
       "\t2 & E17.5 & Wound & 49.64039\\\\\n",
       "\t3 & E18.5 & Wound & 55.17101\\\\\n",
       "\t4 & P5    & Wound & 53.79460\\\\\n",
       "\t5 & Adult & Wound & 67.30878\\\\\n",
       "\t6 & E16.5 & Wound & 46.40390\\\\\n",
       "\\end{tabular}\n"
      ],
      "text/markdown": [
       "\n",
       "A data.frame: 6 × 3\n",
       "\n",
       "| <!--/--> | Group &lt;fct&gt; | Wound &lt;chr&gt; | Masson &lt;dbl&gt; |\n",
       "|---|---|---|---|\n",
       "| 1 | E16.5 | Wound | 46.97526 |\n",
       "| 2 | E17.5 | Wound | 49.64039 |\n",
       "| 3 | E18.5 | Wound | 55.17101 |\n",
       "| 4 | P5    | Wound | 53.79460 |\n",
       "| 5 | Adult | Wound | 67.30878 |\n",
       "| 6 | E16.5 | Wound | 46.40390 |\n",
       "\n"
      ],
      "text/plain": [
       "  Group Wound Masson  \n",
       "1 E16.5 Wound 46.97526\n",
       "2 E17.5 Wound 49.64039\n",
       "3 E18.5 Wound 55.17101\n",
       "4 P5    Wound 53.79460\n",
       "5 Adult Wound 67.30878\n",
       "6 E16.5 Wound 46.40390"
      ]
     },
     "metadata": {},
     "output_type": "display_data"
    }
   ],
   "source": [
    "df = read.csv(\"/data/work/MASSON/Masson_20241021.csv\")\n",
    "df = df[!is.na(df$Masson),]\n",
    "df$Group = factor(df$Group, levels=c(\"E16.5\", \"E17.5\", \"E18.5\", \"P0\", \"P5\", \"Adult\"))\n",
    "head(df)"
   ]
  },
  {
   "cell_type": "code",
   "execution_count": 4,
   "id": "2bd92c5b-dd6d-4e37-a55e-1fed14bb904b",
   "metadata": {
    "execution": {
     "iopub.execute_input": "2024-10-21T08:39:57.273048Z",
     "iopub.status.busy": "2024-10-21T08:39:57.271194Z",
     "iopub.status.idle": "2024-10-21T08:39:57.321542Z",
     "shell.execute_reply": "2024-10-21T08:39:57.319000Z"
    },
    "tags": []
   },
   "outputs": [],
   "source": [
    "# 复制 P0 Control 行并分配到 E16.5, E17.5, E18.5 组\n",
    "df_control <- df %>% filter(Group == \"P0\")\n",
    "df_control <- bind_rows(df_control,df_control, df_control)\n",
    "df_control <- df_control %>% mutate(Group = factor(rep(c(\"E16.5\", \"E17.5\", \"E18.5\"),each = 3)))\n",
    "df_combined <- bind_rows(filter(df, Group != \"P0\"), df_control)"
   ]
  },
  {
   "cell_type": "code",
   "execution_count": 5,
   "id": "c030fbc4-3392-4a09-8aa4-a65801b75ef3",
   "metadata": {
    "execution": {
     "iopub.execute_input": "2024-10-21T08:39:57.328201Z",
     "iopub.status.busy": "2024-10-21T08:39:57.326220Z",
     "iopub.status.idle": "2024-10-21T08:39:57.435248Z",
     "shell.execute_reply": "2024-10-21T08:39:57.432557Z"
    },
    "tags": []
   },
   "outputs": [
    {
     "name": "stderr",
     "output_type": "stream",
     "text": [
      "\u001b[1m\u001b[22m`summarise()` has grouped output by 'Group'. You can override using the\n",
      "`.groups` argument.\n"
     ]
    },
    {
     "data": {
      "text/html": [
       "<table class=\"dataframe\">\n",
       "<caption>A grouped_df: 15 × 4</caption>\n",
       "<thead>\n",
       "\t<tr><th scope=col>Group</th><th scope=col>Wound</th><th scope=col>CVF</th><th scope=col>SE</th></tr>\n",
       "\t<tr><th scope=col>&lt;fct&gt;</th><th scope=col>&lt;chr&gt;</th><th scope=col>&lt;dbl&gt;</th><th scope=col>&lt;dbl&gt;</th></tr>\n",
       "</thead>\n",
       "<tbody>\n",
       "\t<tr><td>E16.5</td><td>Control  </td><td>46.08128</td><td>1.9082936</td></tr>\n",
       "\t<tr><td>E16.5</td><td>Periwound</td><td>48.26719</td><td>0.4736775</td></tr>\n",
       "\t<tr><td>E16.5</td><td>Wound    </td><td>47.75140</td><td>1.0745506</td></tr>\n",
       "\t<tr><td>E17.5</td><td>Control  </td><td>46.08128</td><td>1.9082936</td></tr>\n",
       "\t<tr><td>E17.5</td><td>Periwound</td><td>52.91572</td><td>1.8053102</td></tr>\n",
       "\t<tr><td>E17.5</td><td>Wound    </td><td>54.16023</td><td>2.3260181</td></tr>\n",
       "\t<tr><td>E18.5</td><td>Control  </td><td>46.08128</td><td>1.9082936</td></tr>\n",
       "\t<tr><td>E18.5</td><td>Periwound</td><td>46.46061</td><td>1.0728367</td></tr>\n",
       "\t<tr><td>E18.5</td><td>Wound    </td><td>52.59506</td><td>3.6220399</td></tr>\n",
       "\t<tr><td>P5   </td><td>Control  </td><td>43.78232</td><td>1.4776559</td></tr>\n",
       "\t<tr><td>P5   </td><td>Periwound</td><td>44.71547</td><td>3.0732039</td></tr>\n",
       "\t<tr><td>P5   </td><td>Wound    </td><td>54.75942</td><td>1.9053728</td></tr>\n",
       "\t<tr><td>Adult</td><td>Control  </td><td>60.11262</td><td>0.6759267</td></tr>\n",
       "\t<tr><td>Adult</td><td>Periwound</td><td>59.67440</td><td>2.9572559</td></tr>\n",
       "\t<tr><td>Adult</td><td>Wound    </td><td>74.34834</td><td>3.6982847</td></tr>\n",
       "</tbody>\n",
       "</table>\n"
      ],
      "text/latex": [
       "A grouped\\_df: 15 × 4\n",
       "\\begin{tabular}{llll}\n",
       " Group & Wound & CVF & SE\\\\\n",
       " <fct> & <chr> & <dbl> & <dbl>\\\\\n",
       "\\hline\n",
       "\t E16.5 & Control   & 46.08128 & 1.9082936\\\\\n",
       "\t E16.5 & Periwound & 48.26719 & 0.4736775\\\\\n",
       "\t E16.5 & Wound     & 47.75140 & 1.0745506\\\\\n",
       "\t E17.5 & Control   & 46.08128 & 1.9082936\\\\\n",
       "\t E17.5 & Periwound & 52.91572 & 1.8053102\\\\\n",
       "\t E17.5 & Wound     & 54.16023 & 2.3260181\\\\\n",
       "\t E18.5 & Control   & 46.08128 & 1.9082936\\\\\n",
       "\t E18.5 & Periwound & 46.46061 & 1.0728367\\\\\n",
       "\t E18.5 & Wound     & 52.59506 & 3.6220399\\\\\n",
       "\t P5    & Control   & 43.78232 & 1.4776559\\\\\n",
       "\t P5    & Periwound & 44.71547 & 3.0732039\\\\\n",
       "\t P5    & Wound     & 54.75942 & 1.9053728\\\\\n",
       "\t Adult & Control   & 60.11262 & 0.6759267\\\\\n",
       "\t Adult & Periwound & 59.67440 & 2.9572559\\\\\n",
       "\t Adult & Wound     & 74.34834 & 3.6982847\\\\\n",
       "\\end{tabular}\n"
      ],
      "text/markdown": [
       "\n",
       "A grouped_df: 15 × 4\n",
       "\n",
       "| Group &lt;fct&gt; | Wound &lt;chr&gt; | CVF &lt;dbl&gt; | SE &lt;dbl&gt; |\n",
       "|---|---|---|---|\n",
       "| E16.5 | Control   | 46.08128 | 1.9082936 |\n",
       "| E16.5 | Periwound | 48.26719 | 0.4736775 |\n",
       "| E16.5 | Wound     | 47.75140 | 1.0745506 |\n",
       "| E17.5 | Control   | 46.08128 | 1.9082936 |\n",
       "| E17.5 | Periwound | 52.91572 | 1.8053102 |\n",
       "| E17.5 | Wound     | 54.16023 | 2.3260181 |\n",
       "| E18.5 | Control   | 46.08128 | 1.9082936 |\n",
       "| E18.5 | Periwound | 46.46061 | 1.0728367 |\n",
       "| E18.5 | Wound     | 52.59506 | 3.6220399 |\n",
       "| P5    | Control   | 43.78232 | 1.4776559 |\n",
       "| P5    | Periwound | 44.71547 | 3.0732039 |\n",
       "| P5    | Wound     | 54.75942 | 1.9053728 |\n",
       "| Adult | Control   | 60.11262 | 0.6759267 |\n",
       "| Adult | Periwound | 59.67440 | 2.9572559 |\n",
       "| Adult | Wound     | 74.34834 | 3.6982847 |\n",
       "\n"
      ],
      "text/plain": [
       "   Group Wound     CVF      SE       \n",
       "1  E16.5 Control   46.08128 1.9082936\n",
       "2  E16.5 Periwound 48.26719 0.4736775\n",
       "3  E16.5 Wound     47.75140 1.0745506\n",
       "4  E17.5 Control   46.08128 1.9082936\n",
       "5  E17.5 Periwound 52.91572 1.8053102\n",
       "6  E17.5 Wound     54.16023 2.3260181\n",
       "7  E18.5 Control   46.08128 1.9082936\n",
       "8  E18.5 Periwound 46.46061 1.0728367\n",
       "9  E18.5 Wound     52.59506 3.6220399\n",
       "10 P5    Control   43.78232 1.4776559\n",
       "11 P5    Periwound 44.71547 3.0732039\n",
       "12 P5    Wound     54.75942 1.9053728\n",
       "13 Adult Control   60.11262 0.6759267\n",
       "14 Adult Periwound 59.67440 2.9572559\n",
       "15 Adult Wound     74.34834 3.6982847"
      ]
     },
     "metadata": {},
     "output_type": "display_data"
    }
   ],
   "source": [
    "df_summary <- df_combined %>%\n",
    "  group_by(Group, Wound) %>%\n",
    "  summarise(CVF = mean(Masson), SE = sd(Masson) / sqrt(n()))\n",
    "df_summary"
   ]
  },
  {
   "cell_type": "code",
   "execution_count": 20,
   "id": "8b6b90be-1524-48ae-b5b7-c970afeba111",
   "metadata": {
    "execution": {
     "iopub.execute_input": "2024-10-21T12:06:41.365484Z",
     "iopub.status.busy": "2024-10-21T12:06:41.363100Z",
     "iopub.status.idle": "2024-10-21T12:06:41.438375Z",
     "shell.execute_reply": "2024-10-21T12:06:41.435624Z"
    },
    "tags": []
   },
   "outputs": [
    {
     "data": {
      "text/plain": [
       "geom_blank: na.rm = FALSE\n",
       "stat_identity: na.rm = FALSE\n",
       "position_identity "
      ]
     },
     "metadata": {},
     "output_type": "display_data"
    }
   ],
   "source": [
    "# 绘制柱状图\n",
    "p <- ggplot(df_summary, aes(x = Group, y = CVF, color = Wound)) +\n",
    "  geom_bar(stat = \"identity\", position = position_dodge(width = 0.8), width = 0.75, fill='white')+\n",
    "  geom_errorbar(aes(ymin = CVF - SE, ymax = CVF + SE), \n",
    "                position = position_dodge(width = 0.8), width = 0.25) +\n",
    "  geom_point(data = df_combined, aes(x = Group, y = Masson, fill = Wound), \n",
    "             position = position_jitterdodge(jitter.width = 0.2, dodge.width = 0.8), size = 2) +\n",
    "  labs(title = \"\", x = \"\", y = \"Collagen volume fraction(%)\")  +\n",
    "  scale_y_continuous(limits = c(0, 90)) + \n",
    "  scale_color_manual(values = c(\"black\",\"#159DC0\", \"#EE4143\"))# +\n",
    "  # scale_pattern_manual(values = c(\"none\", \"stripe\")) +\n",
    "  geom_blank()\n",
    "\n",
    "\n",
    "science_theme <- theme(\n",
    "  panel.background = element_blank(),  # 去除背景\n",
    "  panel.grid.major = element_blank(),  # 去除主网格线\n",
    "  panel.grid.minor = element_blank(),  # 去除次网格线\n",
    "  axis.line = element_line(color = \"black\"),  # 坐标轴线颜色\n",
    "  axis.ticks = element_line(color = \"black\"),  # 坐标轴刻度线颜色\n",
    "  axis.text = element_text(size = 12, color = \"black\"),  # 坐标轴文字大小和颜色\n",
    "  axis.title = element_text(size = 14, face = \"bold\"),  # 坐标轴标题大小和加粗\n",
    "  plot.title = element_text(size = 16, face = \"bold\", hjust = 0.5),  # 图标题大小、加粗和居中\n",
    "  legend.position = \"none\"  # 去除图例\n",
    ")\n",
    "\n",
    "p <- p + science_theme"
   ]
  },
  {
   "cell_type": "code",
   "execution_count": 21,
   "id": "942d33b7-58fe-4021-bdb2-76cdb77b739b",
   "metadata": {
    "execution": {
     "iopub.execute_input": "2024-10-21T12:06:43.636450Z",
     "iopub.status.busy": "2024-10-21T12:06:43.633956Z",
     "iopub.status.idle": "2024-10-21T12:06:44.067301Z",
     "shell.execute_reply": "2024-10-21T12:06:44.064814Z"
    },
    "tags": []
   },
   "outputs": [
    {
     "data": {
      "image/png": "[encoded data removed]",
      "text/plain": [
       "plot without title"
      ]
     },
     "metadata": {
      "image/png": {
       "height": 360,
       "width": 480
      }
     },
     "output_type": "display_data"
    }
   ],
   "source": [
    "options(repr.plot.width=8, repr.plot.height=6)\n",
    "p"
   ]
  },
  {
   "cell_type": "code",
   "execution_count": 22,
   "id": "8ef2aea2-4be7-46a8-ab66-3fcf48ead525",
   "metadata": {
    "execution": {
     "iopub.execute_input": "2024-10-21T12:06:57.840569Z",
     "iopub.status.busy": "2024-10-21T12:06:57.831918Z",
     "iopub.status.idle": "2024-10-21T12:06:58.647160Z",
     "shell.execute_reply": "2024-10-21T12:06:58.641342Z"
    },
    "tags": []
   },
   "outputs": [],
   "source": [
    "ggsave(\"MASSON_bar_241021.pdf\", width=7, height=5)"
   ]
  },
  {
   "cell_type": "code",
   "execution_count": null,
   "id": "9f34b3a5-93c1-4e34-85d3-28e982c790fa",
   "metadata": {},
   "outputs": [],
   "source": []
  },
  {
   "cell_type": "code",
   "execution_count": 9,
   "id": "44114420-0ac5-4ba5-9e24-61d8fc65b6bf",
   "metadata": {
    "execution": {
     "iopub.execute_input": "2024-10-21T08:39:58.572747Z",
     "iopub.status.busy": "2024-10-21T08:39:58.570886Z",
     "iopub.status.idle": "2024-10-21T08:40:18.852416Z",
     "shell.execute_reply": "2024-10-21T08:40:18.847954Z"
    },
    "tags": []
   },
   "outputs": [
    {
     "name": "stderr",
     "output_type": "stream",
     "text": [
      "Updating HTML index of packages in '.Library'\n",
      "\n",
      "Warning message in file.create(f.tg):\n",
      "“cannot create file '/opt/conda/lib/R/doc/html/packages.html', reason 'Permission denied'”\n",
      "Warning message in make.packages.html(.Library):\n",
      "“cannot update HTML package index”\n"
     ]
    }
   ],
   "source": [
    "install.packages(\"agricolae\")"
   ]
  },
  {
   "cell_type": "code",
   "execution_count": 10,
   "id": "538a54f4-c151-478d-a47e-25bedb16ba16",
   "metadata": {
    "execution": {
     "iopub.execute_input": "2024-10-21T08:40:18.861592Z",
     "iopub.status.busy": "2024-10-21T08:40:18.858550Z",
     "iopub.status.idle": "2024-10-21T08:40:19.051030Z",
     "shell.execute_reply": "2024-10-21T08:40:19.046260Z"
    },
    "tags": []
   },
   "outputs": [],
   "source": [
    "library(agricolae)"
   ]
  },
  {
   "cell_type": "code",
   "execution_count": 13,
   "id": "be6479c7-c0ac-43db-9377-df043b2c9fa5",
   "metadata": {
    "execution": {
     "iopub.execute_input": "2024-10-21T08:41:38.627605Z",
     "iopub.status.busy": "2024-10-21T08:41:38.624926Z",
     "iopub.status.idle": "2024-10-21T08:41:38.654371Z",
     "shell.execute_reply": "2024-10-21T08:41:38.650640Z"
    },
    "tags": []
   },
   "outputs": [],
   "source": [
    "fit = aov(Masson ~ Wound * Group, data=df)"
   ]
  },
  {
   "cell_type": "code",
   "execution_count": 14,
   "id": "b72c103e-3ed4-448e-ba5a-50addc748cad",
   "metadata": {
    "execution": {
     "iopub.execute_input": "2024-10-21T08:41:42.078724Z",
     "iopub.status.busy": "2024-10-21T08:41:42.074963Z",
     "iopub.status.idle": "2024-10-21T08:41:42.271790Z",
     "shell.execute_reply": "2024-10-21T08:41:42.269344Z"
    },
    "tags": []
   },
   "outputs": [
    {
     "name": "stdout",
     "output_type": "stream",
     "text": [
      "$statistics\n",
      "   MSerror Df     Mean       CV      MSD\n",
      "  15.25346 26 52.74031 7.405279 11.58852\n",
      "\n",
      "$parameters\n",
      "   test      name.t ntr StudentizedRange alpha\n",
      "  Tukey Wound:Group  13         5.139305  0.05\n",
      "\n",
      "$means\n",
      "                  Masson       std r      se      Min      Max      Q25\n",
      "Control:Adult   60.11262 1.1707394 3 2.25488 58.80711 61.06927 59.63430\n",
      "Control:P0      46.08128 3.3052614 3 2.25488 44.12668 49.89749 44.17317\n",
      "Control:P5      43.78232 2.5593752 3 2.25488 40.85283 45.58469 42.88113\n",
      "Periwound:Adult 59.67440 5.1221175 3 2.25488 54.77734 64.99524 57.01398\n",
      "Periwound:E16.5 48.26719 0.8204335 3 2.25488 47.38712 49.01090 47.89533\n",
      "Periwound:E17.5 52.91572 3.1268889 3 2.25488 49.98294 56.20599 51.27059\n",
      "Periwound:E18.5 46.46061 1.8582076 3 2.25488 44.33072 47.75052 45.81566\n",
      "Periwound:P5    44.71547 5.3229454 3 2.25488 38.77754 49.05902 42.54369\n",
      "Wound:Adult     74.34834 6.4056171 3 2.25488 67.30878 79.83418 71.60541\n",
      "Wound:E16.5     47.75140 1.8611762 3 2.25488 46.40390 49.87503 46.68958\n",
      "Wound:E17.5     54.16023 4.0287816 3 2.25488 49.64039 57.37375 52.55347\n",
      "Wound:E18.5     52.59506 6.2735571 3 2.25488 45.44356 57.17060 50.30729\n",
      "Wound:P5        54.75942 3.3002025 3 2.25488 52.04916 58.43451 52.92188\n",
      "                     Q50      Q75\n",
      "Control:Adult   60.46149 60.76538\n",
      "Control:P0      44.21966 47.05857\n",
      "Control:P5      44.90942 45.24706\n",
      "Periwound:Adult 59.25062 62.12293\n",
      "Periwound:E16.5 48.40354 48.70722\n",
      "Periwound:E17.5 52.55823 54.38211\n",
      "Periwound:E18.5 47.30060 47.52556\n",
      "Periwound:P5    46.30984 47.68443\n",
      "Wound:Adult     75.90205 77.86812\n",
      "Wound:E16.5     46.97526 48.42515\n",
      "Wound:E17.5     55.46656 56.42016\n",
      "Wound:E18.5     55.17101 56.17081\n",
      "Wound:P5        53.79460 56.11456\n",
      "\n",
      "$comparison\n",
      "NULL\n",
      "\n",
      "$groups\n",
      "                  Masson groups\n",
      "Wound:Adult     74.34834      a\n",
      "Control:Adult   60.11262      b\n",
      "Periwound:Adult 59.67440     bc\n",
      "Wound:P5        54.75942    bcd\n",
      "Wound:E17.5     54.16023    bcd\n",
      "Periwound:E17.5 52.91572    bcd\n",
      "Wound:E18.5     52.59506    bcd\n",
      "Periwound:E16.5 48.26719     cd\n",
      "Wound:E16.5     47.75140      d\n",
      "Periwound:E18.5 46.46061      d\n",
      "Control:P0      46.08128      d\n",
      "Periwound:P5    44.71547      d\n",
      "Control:P5      43.78232      d\n",
      "\n",
      "attr(,\"class\")\n",
      "[1] \"group\"\n"
     ]
    }
   ],
   "source": [
    "result_O = HSD.test(fit,c(\"Wound\", \"Group\"), group = T)\n",
    "print(result_O)"
   ]
  },
  {
   "cell_type": "code",
   "execution_count": null,
   "id": "54958fcd-f35c-416d-befc-21cd3611751e",
   "metadata": {},
   "outputs": [],
   "source": []
  }
 ],
 "metadata": {
  "kernelspec": {
   "display_name": "R",
   "language": "R",
   "name": "ir"
  },
  "language_info": {
   "codemirror_mode": "r",
   "file_extension": ".r",
   "mimetype": "text/x-r-source",
   "name": "R",
   "pygments_lexer": "r",
   "version": "4.2.2"
  }
 },
 "nbformat": 4,
 "nbformat_minor": 5
}
