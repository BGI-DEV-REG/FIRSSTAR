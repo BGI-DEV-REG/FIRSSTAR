{
 "cells": [
  {
   "cell_type": "code",
   "execution_count": null,
   "id": "68c7b5ad-40d7-4715-9adb-59233b3b594f",
   "metadata": {
    "tags": []
   },
   "outputs": [],
   "source": [
    "library(ggplot2)\n",
    "library(viridis)\n",
    "library(ComplexHeatmap)"
   ]
  },
  {
   "cell_type": "code",
   "execution_count": null,
   "id": "0b65ef2e-573a-48ec-baf5-73ebe4b32689",
   "metadata": {
    "tags": []
   },
   "outputs": [],
   "source": [
    "exp = read.csv(\"../Acta2_exp/expression.csv.gz\",row.names=1)\n",
    "\n",
    "meta = read.csv(\"../Acta2_exp/All_sc_meta.csv.gz\",row.names=1)\n",
    "\n",
    "meta1 = meta[,c(\"celltype\",\"Age_TimePostInjury\",\"Age\",\"TimePostInjury\")]\n",
    "data = cbind(exp,meta1)\n",
    "df = data[data$celltype == \"FB_Injury\",]\n",
    "\n",
    "cell_counts <- table(df$Age_TimePostInjury)\n",
    "filtered_df <- df[df$Age_TimePostInjury %in% names(cell_counts[cell_counts >= 20]), ]"
   ]
  },
  {
   "cell_type": "code",
   "execution_count": null,
   "id": "cd989277-1f43-4ba7-9aa2-88842cb7f1fa",
   "metadata": {},
   "outputs": [],
   "source": [
    "library(dplyr)\n",
    "result <- filtered_df %>%\n",
    "  group_by(Age_TimePostInjury) %>%\n",
    "  summarise(count = sum(Acta2 > 0),Mean = mean(Acta2),Sumcount = n())\n",
    "result = as.data.frame(result)\n",
    "result$prob = result$count /result$Sumcount "
   ]
  },
  {
   "cell_type": "code",
   "execution_count": null,
   "id": "bd3d98d2-351c-4a04-9a42-50a29f7f1e14",
   "metadata": {
    "tags": []
   },
   "outputs": [],
   "source": [
    "exp <- matrix(0, nrow = 1, ncol = length(result$Age_TimePostInjury)) \n",
    "colnames(exp) <- result$Age_TimePostInjury \n",
    "rownames(exp) <- \"Acta2\"\n",
    "exp[1,]= result$Mean"
   ]
  },
  {
   "cell_type": "code",
   "execution_count": null,
   "id": "45657768-4782-4526-888d-43d51d6879ba",
   "metadata": {
    "tags": []
   },
   "outputs": [],
   "source": [
    "meta.size <- matrix(0, nrow = 1, ncol = length(result$Age_TimePostInjury)) \n",
    "colnames(meta.size) <- result$Age_TimePostInjury  \n",
    "rownames(meta.size) <- \"Acta2\"\n",
    "meta.size[1,]= result$prob"
   ]
  },
  {
   "cell_type": "code",
   "execution_count": null,
   "id": "7d47e7ef-c6d0-438d-84be-526bb4b4849b",
   "metadata": {
    "tags": []
   },
   "outputs": [],
   "source": [
    "options(repr.plot.width = 10, repr.plot.height = 10)\n",
    "col_fun = circlize::colorRamp2(c(quantile(exp[1,], 0), quantile(exp[1,], 0.5), quantile(exp[1,], 0.75), quantile(exp[1,], 0.95), quantile(exp, 1)), viridis(9)[c(1,2,6,8,9)])\n",
    "\n",
    "heatmap_legend_param = list(\n",
    "    # title = grid::textGrob(\"proportion\", gp = gpar(col = \"white\", fontsize = 5)),\n",
    "    title_gp = gpar(fontsize = 10, col = \"white\"),\n",
    "    labels_gp = gpar(fontsize = 10, col = \"white\")\n",
    ")\n",
    "\n",
    "cell_fun = function(j, i, x, y, w, h, fill){\n",
    "          grid.rect(x = x, y = y, width = w, height = h,\n",
    "                    gp = gpar(col = NA, fill = NA))\n",
    "          grid.circle(x=x,y=y,r= meta.size[i, j] *1 * unit(20, \"mm\"),\n",
    "                      gp = gpar(fill = col_fun(exp[i, j]), col = NA))}\n",
    "\n",
    "dot.label = lapply(c(0,0.5,0.9,1), function(x){ quantile(meta.size[1,], x) %>% round(digits = 1) }) %>% unlist\n",
    "lgd_list = list(\n",
    "    Legend( labels = dot.label, title = \"% Exp\",\n",
    "            graphics = list(\n",
    "              function(x, y, w, h) grid.circle(x = x, y = y, r = 0.1 * unit(20, \"mm\"),\n",
    "                                               gp = gpar(fill = \"white\")),\n",
    "              function(x, y, w, h) grid.circle(x = x, y = y, r = 0.3 * unit(20, \"mm\"),\n",
    "                                                gp = gpar(fill = \"white\")),\n",
    "              function(x, y, w, h) grid.circle(x = x, y = y, r = 0.5 * unit(20, \"mm\"),\n",
    "                                               gp = gpar(fill = \"white\")),\n",
    "              # function(x, y, w, h) grid.circle(x = x, y = y, r = 3 * unit(1, \"mm\"),\n",
    "              #                                  gp = gpar(fill = \"white\")),\n",
    "              function(x, y, w, h) grid.circle(x = x, y = y, r = 0.6 * unit(20, \"mm\"),\n",
    "                                               gp = gpar(fill = \"white\")))\n",
    "            ))"
   ]
  },
  {
   "cell_type": "code",
   "execution_count": null,
   "id": "ae9935fb-9ba2-4a1e-826c-f6890c808ab2",
   "metadata": {
    "tags": []
   },
   "outputs": [],
   "source": [
    "exp=as.data.frame(exp)\n",
    "exp=exp[,c(\"E16.5_6H\",\"E16.5_1D\",\"E16.5_2D\",\"E16.5_3D\",\n",
    "\"E17.5_6H\",\"E17.5_1D\",\"E17.5_2D\",\"E17.5_3D\",\"E17.5_Born\",\n",
    "\"E18.5_6H\",\"E18.5_1D\",\"E18.5_2D\",\"E18.5_3D\",\"E18.5_Born\",\n",
    "\"P5_6H\",\"P5_1D\",\"P5_2D\",\"P5_3D\",\"P5_6D\",\n",
    "\"Adult_1D\",\"Adult_2D\",\"Adult_5D\",\"Adult_10D\",\"Adult_19D\")]\n",
    "\n",
    "meta.size=as.data.frame(meta.size)\n",
    "meta.size=meta.size[,c(\"E16.5_6H\",\"E16.5_1D\",\"E16.5_2D\",\"E16.5_3D\",\n",
    "\"E17.5_6H\",\"E17.5_1D\",\"E17.5_2D\",\"E17.5_3D\",\"E17.5_Born\",\n",
    "\"E18.5_6H\",\"E18.5_1D\",\"E18.5_2D\",\"E18.5_3D\",\"E18.5_Born\",\n",
    "\"P5_6H\",\"P5_1D\",\"P5_2D\",\"P5_3D\",\"P5_6D\",\n",
    "\"Adult_1D\",\"Adult_2D\",\"Adult_5D\",\"Adult_10D\",\"Adult_19D\")]\n"
   ]
  },
  {
   "cell_type": "code",
   "execution_count": null,
   "id": "7e7b7b36-55c5-4c4a-80a0-2eb7b6e64ffe",
   "metadata": {
    "tags": []
   },
   "outputs": [],
   "source": [
    "options(repr.plot.width = 24, repr.plot.height = 4)\n",
    "pdf('AR.exp_in_lineage.pdf', width = 24, height = 4)\n",
    "hp <- ComplexHeatmap::Heatmap(exp, \n",
    "              name = \"Ave exp\",\n",
    "              col = col_fun,\n",
    "              rect_gp = gpar(type = \"none\"),\n",
    "              cell_fun = cell_fun,\n",
    "              #column_title_gp = gpar(fontsize = 10),\n",
    "              #row_title_gp = gpar(fontsize = 10),\n",
    "              #row_names_gp = gpar(fontsize = 8),\n",
    "              #column_names_gp = gpar(fontsize = 8),\n",
    "              show_column_names = TRUE,\n",
    "              row_names_side = \"left\",\n",
    "              cluster_rows = FALSE,\n",
    "              cluster_columns = FALSE,\n",
    "              border = \"white\",\n",
    "              heatmap_legend_param = heatmap_legend_param)\n",
    "#hp\n",
    "draw(hp, annotation_legend_list = lgd_list)\n",
    "dev.off()"
   ]
  },
  {
   "cell_type": "code",
   "execution_count": null,
   "id": "dc1a8fd8-75e5-4e0a-8093-2bff1091872e",
   "metadata": {},
   "outputs": [],
   "source": []
  }
 ],
 "metadata": {
  "kernelspec": {
   "display_name": "R",
   "language": "R",
   "name": "ir"
  },
  "language_info": {
   "codemirror_mode": "r",
   "file_extension": ".r",
   "mimetype": "text/x-r-source",
   "name": "R",
   "pygments_lexer": "r",
   "version": "4.2.2"
  }
 },
 "nbformat": 4,
 "nbformat_minor": 5
}
